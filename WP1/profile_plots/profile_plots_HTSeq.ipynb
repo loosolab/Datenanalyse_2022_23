{
 "cells": [
  {
   "cell_type": "markdown",
   "id": "d8941f16",
   "metadata": {},
   "source": [
    "# Profile plots using HTSeq\n",
    "\n",
    "Tutorial from https://htseq.readthedocs.io/en/latest/tutorials/tss.html"
   ]
  },
  {
   "cell_type": "markdown",
   "id": "5a861acc",
   "metadata": {},
   "source": [
    "### Imports"
   ]
  },
  {
   "cell_type": "code",
   "execution_count": 1,
   "id": "8834f208",
   "metadata": {},
   "outputs": [],
   "source": [
    "import numpy as np\n",
    "import pandas as pd\n",
    "import HTSeq\n",
    "import itertools\n",
    "import matplotlib.pyplot as plt"
   ]
  },
  {
   "cell_type": "markdown",
   "id": "4f03a340",
   "metadata": {},
   "source": [
    "### File Paths"
   ]
  },
  {
   "cell_type": "code",
   "execution_count": 2,
   "id": "6ca43092",
   "metadata": {},
   "outputs": [],
   "source": [
    "GTF_PATH = \"/home/stud5/testfiles/gtffiles/\"\n",
    "GTF_NAME = \"homo_sapiens.104.mainChr.gtf\"\n",
    "BED_PATH = \"/home/stud5/testfiles/fragments/\"\n",
    "BED_NAME = \"stomach_SM-JF1O3_rep1_fragments.bed\""
   ]
  },
  {
   "cell_type": "markdown",
   "id": "c663739f",
   "metadata": {},
   "source": [
    "### Create Genomic Array from Bed File"
   ]
  },
  {
   "cell_type": "code",
   "execution_count": 3,
   "id": "d81f58d9",
   "metadata": {},
   "outputs": [],
   "source": [
    "#read bed file\n",
    "bedfile = open(BED_PATH+BED_NAME, \"r\")"
   ]
  },
  {
   "cell_type": "code",
   "execution_count": 4,
   "id": "ef985c2b",
   "metadata": {},
   "outputs": [],
   "source": [
    "#Create Genomic Array (coverage)\n",
    "coverage = HTSeq.GenomicArray(\"auto\", stranded=False, typecode=\"i\")\n",
    "#get data from file\n",
    "#add it in coverage\n",
    "for line in bedfile:\n",
    "    chrom, start, end, cell, value, strand = line.strip().split()\n",
    "    coverage[HTSeq.GenomicInterval(chrom, int(start), int(end), strand)] += 1"
   ]
  },
  {
   "cell_type": "markdown",
   "id": "14c788db",
   "metadata": {},
   "source": [
    "### Create TSS set from Gtf File"
   ]
  },
  {
   "cell_type": "code",
   "execution_count": 5,
   "id": "fe2af8f6",
   "metadata": {},
   "outputs": [],
   "source": [
    "#read gtf file\n",
    "gtffile = HTSeq.GFF_Reader(GTF_PATH+GTF_NAME)"
   ]
  },
  {
   "cell_type": "code",
   "execution_count": 6,
   "id": "f26b75a6",
   "metadata": {},
   "outputs": [],
   "source": [
    "tsspos = set()\n",
    "for feature in gtffile:\n",
    "    if feature.type == \"exon\" and feature.attr[\"exon_number\"] == \"1\":\n",
    "        tsspos.add(feature.iv.start_d_as_pos)"
   ]
  },
  {
   "cell_type": "code",
   "execution_count": 7,
   "id": "6df3480a",
   "metadata": {},
   "outputs": [
    {
     "data": {
      "text/plain": [
       "209169"
      ]
     },
     "execution_count": 7,
     "metadata": {},
     "output_type": "execute_result"
    }
   ],
   "source": [
    "len(tsspos)"
   ]
  },
  {
   "cell_type": "markdown",
   "id": "186ef7b2",
   "metadata": {},
   "source": [
    "### Define Profile"
   ]
  },
  {
   "cell_type": "code",
   "execution_count": 8,
   "id": "0ee51527",
   "metadata": {},
   "outputs": [],
   "source": [
    "halfwinwidth = 3000\n",
    "profile = np.zeros(2*halfwinwidth, dtype='i')"
   ]
  },
  {
   "cell_type": "markdown",
   "id": "6df6f26c",
   "metadata": {},
   "source": [
    "### Populate profile at each TSS"
   ]
  },
  {
   "cell_type": "code",
   "execution_count": 9,
   "id": "0be7b148",
   "metadata": {},
   "outputs": [],
   "source": [
    "for p in tsspos:\n",
    "    start = p.pos - halfwinwidth\n",
    "    if(start<0): continue\n",
    "    window = HTSeq.GenomicInterval(p.chrom, p.pos - halfwinwidth, p.pos + halfwinwidth, \".\")\n",
    "    wincvg = np.fromiter(coverage[window], dtype='i', count=2*halfwinwidth)\n",
    "    if p.strand == \"+\":\n",
    "        profile += wincvg\n",
    "    else:\n",
    "        profile += wincvg[::-1]"
   ]
  },
  {
   "cell_type": "markdown",
   "id": "ebf282bd",
   "metadata": {},
   "source": [
    "### Plot Profile"
   ]
  },
  {
   "cell_type": "code",
   "execution_count": 10,
   "id": "afc2e153",
   "metadata": {},
   "outputs": [
    {
     "data": {
      "image/png": "[encoded data removed]",
      "text/plain": [
       "<Figure size 640x480 with 1 Axes>"
      ]
     },
     "metadata": {},
     "output_type": "display_data"
    }
   ],
   "source": [
    "fig, ax = plt.subplots()             \n",
    "x = np.arange(-halfwinwidth, halfwinwidth)  \n",
    "ax.plot(x, profile)  \n",
    "plt.show()  "
   ]
  }
 ],
 "metadata": {
  "kernelspec": {
   "display_name": "sctoolbox-p3.9",
   "language": "python",
   "name": "sctoolbox-p3.9"
  },
  "language_info": {
   "codemirror_mode": {
    "name": "ipython",
    "version": 3
   },
   "file_extension": ".py",
   "mimetype": "text/x-python",
   "name": "python",
   "nbconvert_exporter": "python",
   "pygments_lexer": "ipython3",
   "version": "3.9.0"
  }
 },
 "nbformat": 4,
 "nbformat_minor": 5
}
