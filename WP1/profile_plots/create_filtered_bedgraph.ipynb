{
 "cells": [
  {
   "cell_type": "markdown",
   "id": "53d35846",
   "metadata": {},
   "source": [
    "# Create .bedgraph and chrom.sizes files from .bed file."
   ]
  },
  {
   "cell_type": "markdown",
   "id": "951fc811",
   "metadata": {},
   "source": [
    "Here we read, filter and categorize the fragments from .bed file and create .bedgraph and chrom.sizes files which can be subsequently used to create bigWig files."
   ]
  },
  {
   "cell_type": "markdown",
   "id": "f8010c2a",
   "metadata": {},
   "source": [
    "### Imports"
   ]
  },
  {
   "cell_type": "code",
   "execution_count": null,
   "id": "dcab2c1d",
   "metadata": {},
   "outputs": [],
   "source": [
    "import csv\n",
    "import numpy as np\n",
    "import pandas as pd\n",
    "import pyBigWig as pbw"
   ]
  },
  {
   "cell_type": "markdown",
   "id": "283a6b83",
   "metadata": {},
   "source": [
    "### File Paths"
   ]
  },
  {
   "cell_type": "code",
   "execution_count": null,
   "id": "f9a17550",
   "metadata": {},
   "outputs": [],
   "source": [
    "BED_FILE_PATH =\"/home/stud5/testfiles/fragments/\"\n",
    "BEDGRAH_FILE_PATH=\"/home/stud5/testfiles/fragments/\"\n",
    "CHROM_SIZES_PATH=\"/home/stud5/testfiles/fragments/\"\n",
    "BED_FILE_NAME =\"stomach_SM-JF1O3_rep1_fragments.bed\""
   ]
  },
  {
   "cell_type": "markdown",
   "id": "e91a0d44",
   "metadata": {},
   "source": [
    "### Read file into a DataFrame"
   ]
  },
  {
   "cell_type": "code",
   "execution_count": null,
   "id": "0c998fc2",
   "metadata": {},
   "outputs": [],
   "source": [
    "#read bed file\n",
    "bed_file = open(BED_FILE_PATH+BED_FILE_NAME, \"r\")"
   ]
  },
  {
   "cell_type": "code",
   "execution_count": null,
   "id": "733b54a4",
   "metadata": {},
   "outputs": [],
   "source": [
    "#get data from file\n",
    "frag_list = []\n",
    "for line in bed_file:\n",
    "    chrom, start, end, cell, value, etc = line.strip().split()\n",
    "    frag_list.append([chrom, start, end, cell, value, etc])"
   ]
  },
  {
   "cell_type": "code",
   "execution_count": null,
   "id": "8bf3f31a",
   "metadata": {},
   "outputs": [],
   "source": [
    "#create a dataframe\n",
    "frag_df = pd.DataFrame(data = frag_list, columns = ['Chromosome', 'Start', 'End', 'Name', 'Score', 'Strand'])"
   ]
  },
  {
   "cell_type": "markdown",
   "id": "875c40f9",
   "metadata": {},
   "source": [
    "### Set Score and data type"
   ]
  },
  {
   "cell_type": "code",
   "execution_count": null,
   "id": "ef645d58",
   "metadata": {},
   "outputs": [],
   "source": [
    "#Here the score is set to 1 so that it can be used to calculate \n",
    "#and store the fragment count while the merging of overlapping fragments.\n",
    "#Set score to 1, set datatype\n",
    "frag_df.Score = np.full(len(frag_df),1)\n",
    "frag_df.Start = pd.to_numeric(frag_df.Start, downcast='integer')\n",
    "frag_df.End = pd.to_numeric(frag_df.End, downcast='integer')\n",
    "frag_df.Score = pd.to_numeric(frag_df.Score, downcast='float')"
   ]
  },
  {
   "cell_type": "code",
   "execution_count": null,
   "id": "82b21af6",
   "metadata": {},
   "outputs": [],
   "source": [
    "#sorting entries wrt chromosome and end:\n",
    "frag_df_sorted = frag_df.sort_values(by=['Chromosome', 'End'])"
   ]
  },
  {
   "cell_type": "markdown",
   "id": "fdbc3519",
   "metadata": {},
   "source": [
    "## Create chrom.sizes file"
   ]
  },
  {
   "cell_type": "code",
   "execution_count": null,
   "id": "caa93a70",
   "metadata": {},
   "outputs": [],
   "source": [
    "#Here we use max value of the end position for every chromosome as its size.\n",
    "max_per_chrom = frag_df_sorted.groupby(['Chromosome']).max()"
   ]
  },
  {
   "cell_type": "code",
   "execution_count": null,
   "id": "bea615c6",
   "metadata": {},
   "outputs": [],
   "source": [
    "#write chroms.size file:\n",
    "with open(CHROM_SIZES_PATH+\"chrom.sizes\", 'w', newline='') as tsvfile:\n",
    "    writer = csv.writer(tsvfile, delimiter='\\t', lineterminator='\\n')\n",
    "    for key in max_per_chrom[\"End\"].keys():\n",
    "        writer.writerow([key, int(max_per_chrom[\"End\"][key])])"
   ]
  },
  {
   "cell_type": "markdown",
   "id": "576ea811",
   "metadata": {},
   "source": [
    "## Create .bedgraph files using different Categorization strategies"
   ]
  },
  {
   "cell_type": "markdown",
   "id": "acae01c3",
   "metadata": {},
   "source": [
    "Categorization stradegies based on the fragment length distribution."
   ]
  },
  {
   "cell_type": "markdown",
   "id": "e132fccc",
   "metadata": {},
   "source": [
    "### Categorization Strategy 0\n",
    "\n",
    "Without any categorization we write the data into the .bedgrah file."
   ]
  },
  {
   "cell_type": "code",
   "execution_count": null,
   "id": "0ba8dce8",
   "metadata": {},
   "outputs": [],
   "source": [
    "with open(BEDGRAH_FILE_PATH+BED_FILE_NAME.split(\".\")[0] + \".bedgraph\", \"w\", newline='') as tsvfile:\n",
    "    writer = csv.writer(tsvfile, delimiter='\\t', lineterminator='\\n')\n",
    "    for index, row in frag_df_sorted.iterrows():\n",
    "        writer.writerow([row['Chromosome'], row['Start'], row['End'], row['Score']])"
   ]
  },
  {
   "cell_type": "markdown",
   "id": "a72e5894",
   "metadata": {},
   "source": [
    "### Categorization Strategy 1\n",
    "\n",
    "Here we categorize on the basis of wheather the fragment contains a nucleosome or not."
   ]
  },
  {
   "cell_type": "code",
   "execution_count": null,
   "id": "fd134fca",
   "metadata": {},
   "outputs": [],
   "source": [
    "ohne_nucleusome_df = frag_df_sorted.loc[frag_df_sorted['End']-frag_df_sorted['Start'] <= 200]\n",
    "mit_nucleosome_df = frag_df_sorted.loc[frag_df_sorted['End']-frag_df_sorted['Start'] >= 200]"
   ]
  },
  {
   "cell_type": "code",
   "execution_count": null,
   "id": "0c67e20b",
   "metadata": {},
   "outputs": [],
   "source": [
    "#create bedgraph ohne nucleosome:\n",
    "with open(BEDGRAH_FILE_PATH+BED_FILE_NAME.split(\".\")[0] + \"_ohne_nucleosome.bedgraph\", \"w\", newline='') as tsvfile:\n",
    "    writer = csv.writer(tsvfile, delimiter='\\t', lineterminator='\\n')\n",
    "    for index, row in ohne_nucleusome_df.iterrows():\n",
    "        writer.writerow([row['Chromosome'], row['Start'], row['End'], row['Score']])"
   ]
  },
  {
   "cell_type": "code",
   "execution_count": null,
   "id": "d5bda710",
   "metadata": {},
   "outputs": [],
   "source": [
    "#create bedgraph mit nucleosome:\n",
    "with open(BEDGRAH_FILE_PATH+BED_FILE_NAME.split(\".\")[0] + \"_mit_nucleosome.bedgraph\", \"w\", newline='') as tsvfile:\n",
    "    writer = csv.writer(tsvfile, delimiter='\\t', lineterminator='\\n')\n",
    "    for index, row in mit_nucleosome_df.iterrows():\n",
    "        writer.writerow([row['Chromosome'], row['Start'], row['End'], row['Score']])"
   ]
  },
  {
   "cell_type": "markdown",
   "id": "915cd3e6",
   "metadata": {},
   "source": [
    "### Categorization Strategy 2\n",
    "\n",
    "Define categorization characteristics:\n",
    "Categorization based on wheather the fragment lies in the neighbourhood of minima or maxima.\n",
    "\n",
    "The positions of maxima and minima should be determined in the previous stages of analysis.\n",
    "Hardcoding these here for testing.\n",
    "\n",
    "Calculating assuming the first peak lies on 50bp and the second peak on 210bp. (-> period =160bp)\n",
    "Create a neighbourhood border wrt to the proximity to the maxima or minima.\n",
    "Here we take it as a distance of 40b from a maxima or a minima.\n",
    "\n",
    "max_border_1 = 90, \n",
    "min_border_1 = 170, \n",
    "max_border_2 = 250, \n",
    "min_border_2 = 330, \n",
    "max_border_3 = 410, \n",
    "min_border_3 = 480, \n",
    "etc."
   ]
  },
  {
   "cell_type": "code",
   "execution_count": null,
   "id": "60df62aa",
   "metadata": {},
   "outputs": [],
   "source": [
    "auf_maxima_df = frag_df_sorted.loc[np.floor((frag_df_sorted['End']-frag_df_sorted['Start'] -10)/90) % 2 == 0]\n",
    "auf_minima_df = frag_df_sorted.loc[np.floor((frag_df_sorted['End']-frag_df_sorted['Start'] -10)/90) % 2 == 1]"
   ]
  },
  {
   "cell_type": "code",
   "execution_count": null,
   "id": "bc810b6b",
   "metadata": {},
   "outputs": [],
   "source": [
    "#create bedgraph auf maxima:\n",
    "with open(BEDGRAH_FILE_PATH+BED_FILE_NAME.split(\".\")[0] + \"_auf_maxima.bedgraph\", \"w\", newline='') as tsvfile:\n",
    "    writer = csv.writer(tsvfile, delimiter='\\t', lineterminator='\\n')\n",
    "    for index, row in auf_maxima_df.iterrows():\n",
    "        writer.writerow([row['Chromosome'], row['Start'], row['End'], row['Score']])"
   ]
  },
  {
   "cell_type": "code",
   "execution_count": null,
   "id": "e18a8140",
   "metadata": {},
   "outputs": [],
   "source": [
    "#create bedgraph auf minima:\n",
    "with open(BEDGRAH_FILE_PATH+BED_FILE_NAME.split(\".\")[0] + \"_auf_minima.bedgraph\", \"w\", newline='') as tsvfile:\n",
    "    writer = csv.writer(tsvfile, delimiter='\\t', lineterminator='\\n')\n",
    "    for index, row in auf_minima_df.iterrows():\n",
    "        writer.writerow([row['Chromosome'], row['Start'], row['End'], row['Score']])"
   ]
  },
  {
   "cell_type": "markdown",
   "id": "9272b10e",
   "metadata": {},
   "source": [
    "### Categorization Strategy 3\n",
    "\n",
    "Here we consider a small neighbourhood around the minimas and lebel them as the fragments that lie definitely on a minima (or in other words: there is a high probability of these fragments lying on a nucleosome). \n",
    "\n",
    "The positions of maxima and minima should be determined in the previous stages of analysis.\n",
    "Hardcoding these here for testing.\n",
    "Calculating assuming the first peak lies on 50bp and the second peak on 210bp. (-> period =160bp)\n",
    "\n",
    "Categories: def_auf_minima and all_others\n",
    "Considering 10bp left or right of a minima as as def_auf_minima."
   ]
  },
  {
   "cell_type": "code",
   "execution_count": null,
   "id": "75031ad0",
   "metadata": {},
   "outputs": [],
   "source": [
    "def_auf_minima_df = frag_df_sorted.loc[(((frag_df_sorted['End']-frag_df_sorted['Start'] -50) % 160) >=70) & (((frag_df_sorted['End']-frag_df_sorted['Start'] -50) % 160) <= 90)]\n",
    "all_others_df = frag_df_sorted.loc[(((frag_df_sorted['End']-frag_df_sorted['Start'] -50) % 160) < 70) | (((frag_df_sorted['End']-frag_df_sorted['Start'] -50) % 160) > 90)]"
   ]
  },
  {
   "cell_type": "code",
   "execution_count": null,
   "id": "b2e38c8d",
   "metadata": {},
   "outputs": [],
   "source": [
    "#create bedgraph definitely auf minima:\n",
    "with open(BEDGRAH_FILE_PATH+BED_FILE_NAME.split(\".\")[0] + \"_def_auf_minima.bedgraph\", \"w\", newline='') as tsvfile:\n",
    "    writer = csv.writer(tsvfile, delimiter='\\t', lineterminator='\\n')\n",
    "    for index, row in def_auf_minima_df.iterrows():\n",
    "        writer.writerow([row['Chromosome'], row['Start'], row['End'], row['Score']])"
   ]
  },
  {
   "cell_type": "code",
   "execution_count": null,
   "id": "7aabaac0",
   "metadata": {},
   "outputs": [],
   "source": [
    "#create bedgraph all other fragments:\n",
    "with open(BEDGRAH_FILE_PATH+BED_FILE_NAME.split(\".\")[0] + \"_all_others.bedgraph\", \"w\", newline='') as tsvfile:\n",
    "    writer = csv.writer(tsvfile, delimiter='\\t', lineterminator='\\n')\n",
    "    for index, row in all_others_df.iterrows():\n",
    "        writer.writerow([row['Chromosome'], row['Start'], row['End'], row['Score']])"
   ]
  }
 ],
 "metadata": {
  "kernelspec": {
   "display_name": "sctoolbox-p3.9",
   "language": "python",
   "name": "sctoolbox-p3.9"
  },
  "language_info": {
   "codemirror_mode": {
    "name": "ipython",
    "version": 3
   },
   "file_extension": ".py",
   "mimetype": "text/x-python",
   "name": "python",
   "nbconvert_exporter": "python",
   "pygments_lexer": "ipython3",
   "version": "3.9.0"
  }
 },
 "nbformat": 4,
 "nbformat_minor": 5
}
