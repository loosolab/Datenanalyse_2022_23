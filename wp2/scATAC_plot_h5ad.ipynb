{
 "cells": [
  {
   "attachments": {},
   "cell_type": "markdown",
   "metadata": {},
   "source": [
    "# Presentation of scATAC-seq data"
   ]
  },
  {
   "attachments": {},
   "cell_type": "markdown",
   "metadata": {},
   "source": [
    "## Import packages"
   ]
  },
  {
   "cell_type": "code",
   "execution_count": 112,
   "metadata": {},
   "outputs": [
    {
     "name": "stdout",
     "output_type": "stream",
     "text": [
      "['/home/stud2/notebooks', '/home/stud2/.conda/envs/Base/envs/sctoolbox-3/lib/python39.zip', '/home/stud2/.conda/envs/Base/envs/sctoolbox-3/lib/python3.9', '/home/stud2/.conda/envs/Base/envs/sctoolbox-3/lib/python3.9/lib-dynload', '', '/home/stud2/.conda/envs/Base/envs/sctoolbox-3/lib/python3.9/site-packages']\n"
     ]
    }
   ],
   "source": [
    "\n",
    "import sys\n",
    "import os\n",
    "import numpy as np\n",
    "import scanpy as sc\n",
    "import pandas as pd\n",
    "import anndata as ad\n",
    "import episcanpy.api as epi\n",
    "from matplotlib import pyplot as plt\n",
    "from presentation import *\n",
    "from gff_analyser import gffClasses,gffBuilder\n",
    "\n",
    "# modules from sctoolbox\n",
    "from sctoolbox import annotation\n",
    "import sctoolbox.atac as atac\n",
    "import sctoolbox.calc_overlap_pct as overlap\n",
    "from sctoolbox import celltype_annotation"
   ]
  },
  {
   "attachments": {},
   "cell_type": "markdown",
   "metadata": {},
   "source": [
    "## Import H5AD file"
   ]
  },
  {
   "cell_type": "code",
<<<<<<< HEAD
   "execution_count": null,
   "metadata": {},
   "outputs": [],
   "source": [
    "adata = epi.read_h5ad(INPUT + H5AD)\n",
    "adata"
   ]
  },
  {
   "cell_type": "markdown",
   "metadata": {},
   "source": [
    "## Read H5AD from file"
   ]
  },
  {
   "cell_type": "code",
   "execution_count": 3,
=======
   "execution_count": 114,
>>>>>>> 6abfd53696225f3a8c5b6d9faed18c3f1e552da0
   "metadata": {
    "scrolled": true
   },
   "outputs": [],
   "source": [
    "h5ad = \"/mnt/workspace_stud/stud3/stomach_only_features.h5ad\"\n",
    "adata = epi.read_h5ad(h5ad)"
   ]
  },
  {
   "cell_type": "markdown",
   "metadata": {},
   "source": [
    "## Export created H5AD file"
   ]
  },
  {
   "cell_type": "code",
   "execution_count": null,
   "metadata": {},
   "outputs": [],
   "source": [
    "import hdf5plugin\n",
    "adata.write_h5ad(\n",
    "    \"out/skin_sunexposed_mapped.h5ad\",\n",
    "    compression=hdf5plugin.FILTERS[\"zstd\"]\n",
    ")"
   ]
  },
  {
   "cell_type": "markdown",
   "metadata": {},
   "source": [
    "## Clean Cells"
   ]
  },
  {
   "cell_type": "markdown",
   "metadata": {},
   "source": [
    "### Remove Chromosome M"
   ]
  },
  {
   "cell_type": "code",
<<<<<<< HEAD
   "execution_count": 4,
=======
   "execution_count": null,
>>>>>>> 6abfd53696225f3a8c5b6d9faed18c3f1e552da0
   "metadata": {},
   "outputs": [],
   "source": [
    "non_m = [name for name in adata.var_names if not name.startswith('chrM')]\n",
    "adata = adata[:, non_m]\n",
    "display(adata)"
   ]
  },
  {
   "cell_type": "markdown",
   "metadata": {},
   "source": [
    "### Optional: Remove X and Y chromosomes"
   ]
  },
  {
   "cell_type": "code",
<<<<<<< HEAD
   "execution_count": 5,
=======
   "execution_count": null,
>>>>>>> 6abfd53696225f3a8c5b6d9faed18c3f1e552da0
   "metadata": {},
   "outputs": [],
   "source": [
    "non_xy = [name for name in adata.var_names if not name.startswith('chrY') | name.startswith('chrX')]\n",
    "adata = adata[:, non_xy]\n",
    "display(adata)"
   ]
  },
  {
   "cell_type": "markdown",
   "metadata": {},
   "source": [
    "### Remove empty features"
   ]
  },
  {
   "cell_type": "code",
<<<<<<< HEAD
   "execution_count": 6,
   "metadata": {},
   "outputs": [
    {
     "name": "stderr",
     "output_type": "stream",
     "text": [
      " ImplicitModificationWarning:/home/stud2/.conda/envs/Base/envs/sctoolbox-3/lib/python3.9/site-packages/scanpy/preprocessing/_simple.py:140: Trying to modify attribute `.obs` of view, initializing view as actual.\n"
     ]
    },
    {
     "data": {
      "text/plain": [
       "AnnData object with n_obs × n_vars = 2547 × 31459\n",
       "    obs: 'logUMI', 'tsse', 'tissue', 'cell type', 'Life stage', 'closest Cell Ontology term(s)', 'Cell Ontology ID', 'insertsize_count', 'mean_insertsize', 'n_total_fragments', 'n_fragments_in_three_prime_utr', 'pct_fragments_in_three_prime_utr', 'n_fragments_in_stop_codon', 'pct_fragments_in_stop_codon', 'n_fragments_in_peak10', 'pct_fragments_in_peak10', 'n_fragments_in_gene', 'pct_fragments_in_gene', 'n_fragments_in_CDS', 'pct_fragments_in_CDS', 'n_fragments_in_exon', 'pct_fragments_in_exon', 'n_fragments_in_start_codon', 'pct_fragments_in_start_codon', 'n_fragments_in_promotor', 'pct_fragments_in_promotor', 'n_fragments_in_transcrip', 'pct_fragments_in_transcrip', 'n_fragments_in_exon_gene_bodies', 'pct_fragments_in_exon_gene_bodies', 'n_fragments_in_Selenocysteine', 'pct_fragments_in_Selenocysteine', 'n_fragments_in_blacklisted_regions', 'pct_fragments_in_blacklisted_regions', 'n_fragments_in_gene_bodies', 'pct_fragments_in_gene_bodies', 'n_fragments_in_enhancer', 'pct_fragments_in_enhancer', 'n_fragments_in_five_prime_utr', 'pct_fragments_in_five_prime_utr', 'n_fragments_in_TSS', 'pct_fragments_in_TSS', 'nb_features', 'log_nb_features', 'leiden', 'SCSA_pred_celltype'\n",
       "    var: 'index', 'Chromosome', 'hg38_Start', 'hg38_End', 'Class', 'Present in fetal tissues', 'Present in adult tissues', 'CRE module', 'n_cells', 'commonness', 'prop_shared_cells', 'variability_score', 'annotation_feature', 'gene_strand', 'gene_start', 'gene_end', 'annotation_query', 'query_name', 'distance_to_gene', 'gene_anchor', 'gene_ovl_peak', 'peak_ovl_gene', 'relative_location_to_gene', 'gene_version', 'gene_name', 'gene_source', 'gene_biotype'\n",
       "    uns: 'SCSA', 'SCSA_pred_celltype_colors', 'dendrogram_leiden', 'insertsize_distribution', 'leiden', 'log1p', 'neighbors', 'pca', 'rank_genes_groups', 'umap'\n",
       "    obsm: 'X_pca', 'X_umap'\n",
       "    varm: 'PCs'\n",
       "    layers: 'binary', 'normalised'\n",
       "    obsp: 'connectivities', 'distances'"
      ]
     },
     "execution_count": 6,
     "metadata": {},
     "output_type": "execute_result"
    }
   ],
=======
   "execution_count": null,
   "metadata": {},
   "outputs": [],
>>>>>>> 6abfd53696225f3a8c5b6d9faed18c3f1e552da0
   "source": [
    "# remove cells with empty features\n",
    "epi.pp.filter_cells(adata, min_features=1)\n",
    "# remove features with no cells\n",
    "epi.pp.filter_features(adata, min_cells=1)\n",
    "\n",
    "# calculate the log of the number of features in each cell\n",
    "adata.obs['log_nb_features'] = [np.log10(x) for x in adata.obs['nb_features']]"
   ]
  },
  {
   "attachments": {},
   "cell_type": "markdown",
   "metadata": {},
   "source": [
    "### Binarize and save different layers"
   ]
  },
  {
   "cell_type": "code",
<<<<<<< HEAD
   "execution_count": 7,
=======
   "execution_count": null,
>>>>>>> 6abfd53696225f3a8c5b6d9faed18c3f1e552da0
   "metadata": {},
   "outputs": [],
   "source": [
    "epi.pp.binarize(adata)\n",
    "adata.layers['binary'] = adata.X.copy()"
   ]
  },
  {
   "attachments": {},
   "cell_type": "markdown",
   "metadata": {},
   "source": [
    "### Filter by min and max filter"
   ]
  },
  {
   "cell_type": "code",
<<<<<<< HEAD
   "execution_count": 8,
=======
   "execution_count": null,
>>>>>>> 6abfd53696225f3a8c5b6d9faed18c3f1e552da0
   "metadata": {},
   "outputs": [],
   "source": [
    "# filter cells which have at least min_features and at most max_features\n",
    "epi.pp.filter_cells(adata, min_features=150)\n",
    "epi.pp.filter_cells(adata, max_features=10000)"
   ]
  },
  {
   "attachments": {},
   "cell_type": "markdown",
   "metadata": {},
   "source": [
    "### Normalize Data"
   ]
  },
  {
   "cell_type": "code",
<<<<<<< HEAD
   "execution_count": 9,
=======
   "execution_count": null,
>>>>>>> 6abfd53696225f3a8c5b6d9faed18c3f1e552da0
   "metadata": {},
   "outputs": [],
   "source": [
    "sc.pp.normalize_total(adata)\n",
    "adata.layers['normalised'] = adata.X.copy()\n",
    "\n",
    "# log-normalize\n",
    "epi.pp.log1p(adata)"
   ]
  },
  {
   "attachments": {},
   "cell_type": "markdown",
   "metadata": {},
   "source": [
    "### Calculate PCA and Neighbours"
   ]
  },
  {
   "cell_type": "code",
<<<<<<< HEAD
   "execution_count": 10,
=======
   "execution_count": null,
>>>>>>> 6abfd53696225f3a8c5b6d9faed18c3f1e552da0
   "metadata": {},
   "outputs": [],
   "source": [
    "# calculate pca\n",
    "sc.pp.pca(adata, n_comps=50, svd_solver='arpack', use_highly_variable=False)\n",
    "# calculate neighbors\n",
    "sc.pp.neighbors(adata, n_neighbors=15, n_pcs=50, method='umap', metric='euclidean')"
   ]
  },
  {
   "cell_type": "code",
   "execution_count": 11,
   "metadata": {},
   "outputs": [],
   "source": [
    "sc.tl.umap(adata, min_dist=0.7, spread=2.0)"
   ]
  },
  {
   "attachments": {},
   "cell_type": "markdown",
   "metadata": {},
   "source": [
    "## Get all Celltypes that were predicted beforehand"
   ]
  },
  {
   "cell_type": "code",
   "execution_count": 12,
   "metadata": {},
   "outputs": [
    {
     "data": {
      "text/plain": [
       "['Epithelial cell',\n",
       " 'Mesenchymal cell',\n",
       " 'T cell',\n",
       " 'Mesenchymal stem cell',\n",
       " 'Meiotic prophase fetal germ cell',\n",
       " 'Oogenesis phase fetal germ cell',\n",
       " 'Macrophage']"
      ]
     },
     "execution_count": 12,
     "metadata": {},
     "output_type": "execute_result"
    }
   ],
   "source": [
    "celltypes = [celltype for celltype in set(adata.obs[\"SCSA_pred_celltype\"]) if type(celltype) == str]\n",
    "celltypes"
   ]
  },
  {
   "attachments": {},
   "cell_type": "markdown",
   "metadata": {},
   "source": [
    "### Create a list for percentage in feature and count in feature"
   ]
  },
  {
   "cell_type": "code",
<<<<<<< HEAD
   "execution_count": null,
   "metadata": {},
   "outputs": [],
   "source": [
    "for item in item_list:\n",
    "    sc.pl.violin(adata, item, groupby=\"SCSA_pred_celltype\", rotation=90)"
   ]
  },
  {
   "cell_type": "code",
   "execution_count": null,
   "metadata": {},
   "outputs": [],
   "source": []
  },
  {
   "cell_type": "markdown",
   "metadata": {},
   "source": [
    "### Generate Scatterplot for each combination of fragment type"
   ]
  },
  {
   "cell_type": "code",
   "execution_count": null,
=======
   "execution_count": 115,
>>>>>>> 6abfd53696225f3a8c5b6d9faed18c3f1e552da0
   "metadata": {
    "scrolled": true
   },
   "outputs": [],
<<<<<<< HEAD
   "source": [
    "item_list = []\n",
    "\n",
    "for item in adata.obs:\n",
    "    if item.startswith('pct_fragments'):\n",
    "        item_list.append(item)\n",
    "\n",
    "for item in item_list:\n",
    "    x = adata.obs[item]\n",
    "    for item2 in item_list:\n",
    "        y = adata.obs[item2]\n",
    "        if not item == item2:\n",
    "            plt.scatter(x, y)\n",
    "            plt.xlabel(item)\n",
    "            plt.ylabel(item2)\n",
    "            plt.show()"
   ]
  },
  {
   "cell_type": "code",
   "execution_count": null,
   "metadata": {},
   "outputs": [],
   "source": [
    "sc.tl.umap(adata, min_dist=0.1, spread=2.0)"
   ]
  },
  {
   "cell_type": "markdown",
   "metadata": {},
   "source": [
    "### Display Celltype prediction and colored by percentage in each feature"
   ]
  },
  {
   "cell_type": "code",
   "execution_count": null,
   "metadata": {
    "scrolled": true
   },
   "outputs": [],
   "source": [
    "# Test Area\n",
    "test_data = adata\n",
    "for celltype in celltypes:\n",
    "    f = test_data[test_data.obs[\"SCSA_pred_celltype\"] != celltype]\n",
    "    for item in item_list:\n",
    "        f.obs[item] = 0\n",
    "    break"
   ]
  },
  {
   "cell_type": "code",
   "execution_count": null,
   "metadata": {},
   "outputs": [],
   "source": [
    "test_data[:f]"
=======
   "source": [
    "pct_features = []\n",
    "n_features = []\n",
    "\n",
    "for item in adata.obs:\n",
    "    if item.startswith('pct_fragments'):\n",
    "        pct_features.append(item)\n",
    "    elif item.startswith('n_fragments'):\n",
    "        n_features.append(item)"
   ]
  },
  {
   "attachments": {},
   "cell_type": "markdown",
   "metadata": {},
   "source": [
    "## Functions to present data"
   ]
  },
  {
   "attachments": {},
   "cell_type": "markdown",
   "metadata": {},
   "source": [
    "### Violin plots to compare features by celltype"
   ]
  },
  {
   "cell_type": "code",
   "execution_count": 116,
   "metadata": {},
   "outputs": [
    {
     "name": "stdout",
     "output_type": "stream",
     "text": [
      "pct_fragments_in_stop_codon:\n"
     ]
    },
    {
     "ename": "KeyError",
     "evalue": "\"Could not find keys '['SCSA_pred_celltype']' in columns of `adata.obs` or in adata.var_names.\"",
     "output_type": "error",
     "traceback": [
      "\u001b[0;31m---------------------------------------------------------------------------\u001b[0m",
      "\u001b[0;31mKeyError\u001b[0m                                  Traceback (most recent call last)",
      "Cell \u001b[0;32mIn [116], line 1\u001b[0m\n\u001b[0;32m----> 1\u001b[0m pres\u001b[39m.\u001b[39;49mcompareFeatureToCelltypes(adata, [\u001b[39m\"\u001b[39;49m\u001b[39mpct_fragments_in_stop_codon\u001b[39;49m\u001b[39m\"\u001b[39;49m, \u001b[39m\"\u001b[39;49m\u001b[39mn_fragments_in_stop_codon\u001b[39;49m\u001b[39m\"\u001b[39;49m], \u001b[39m\"\u001b[39;49m\u001b[39mSCSA_pred_celltype\u001b[39;49m\u001b[39m\"\u001b[39;49m)\n\u001b[1;32m      2\u001b[0m pres\u001b[39m.\u001b[39mcompareFeatureToCelltypes(adata, \u001b[39m\"\u001b[39m\u001b[39mpct_fragments_in_stop_codon\u001b[39m\u001b[39m\"\u001b[39m, \u001b[39m\"\u001b[39m\u001b[39mSCSA_pred_celltype\u001b[39m\u001b[39m\"\u001b[39m)\n",
      "File \u001b[0;32m~/notebooks/presentation.py:21\u001b[0m, in \u001b[0;36mcompareFeatureToCelltypes\u001b[0;34m(adata, feature, comparator, save)\u001b[0m\n\u001b[1;32m     19\u001b[0m     \u001b[39mfor\u001b[39;00m feature \u001b[39min\u001b[39;00m features:\n\u001b[1;32m     20\u001b[0m         \u001b[39mprint\u001b[39m(\u001b[39mf\u001b[39m\u001b[39m'\u001b[39m\u001b[39m{\u001b[39;00mfeature\u001b[39m}\u001b[39;00m\u001b[39m:\u001b[39m\u001b[39m'\u001b[39m)\n\u001b[0;32m---> 21\u001b[0m         renderCompareFeatureToCelltypes(adata, feature, comparator, save\u001b[39m=\u001b[39;49msave)\n\u001b[1;32m     22\u001b[0m \u001b[39melse\u001b[39;00m:\n\u001b[1;32m     23\u001b[0m     renderCompareFeatureToCelltypes(adata, feature, comparator, save\u001b[39m=\u001b[39msave)\n",
      "File \u001b[0;32m~/notebooks/presentation.py:29\u001b[0m, in \u001b[0;36mrenderCompareFeatureToCelltypes\u001b[0;34m(adata, feature, comparator, save)\u001b[0m\n\u001b[1;32m     27\u001b[0m fig, axes \u001b[39m=\u001b[39m plt\u001b[39m.\u001b[39msubplots(nrows\u001b[39m=\u001b[39m\u001b[39m1\u001b[39m, ncols\u001b[39m=\u001b[39m\u001b[39m2\u001b[39m, gridspec_kw\u001b[39m=\u001b[39m{\u001b[39m'\u001b[39m\u001b[39mwspace\u001b[39m\u001b[39m'\u001b[39m:\u001b[39m0.4\u001b[39m})\n\u001b[1;32m     28\u001b[0m sc\u001b[39m.\u001b[39mpl\u001b[39m.\u001b[39mviolin(adata, feature, ax \u001b[39m=\u001b[39m axes[\u001b[39m0\u001b[39m], show\u001b[39m=\u001b[39m\u001b[39mFalse\u001b[39;00m, ylabel\u001b[39m=\u001b[39mlabel)\n\u001b[0;32m---> 29\u001b[0m sc\u001b[39m.\u001b[39;49mpl\u001b[39m.\u001b[39;49mviolin(adata, feature, groupby\u001b[39m=\u001b[39;49mcomparator, ax \u001b[39m=\u001b[39;49m axes[\u001b[39m1\u001b[39;49m], rotation\u001b[39m=\u001b[39;49m\u001b[39m90\u001b[39;49m, show\u001b[39m=\u001b[39;49m\u001b[39mFalse\u001b[39;49;00m, ylabel\u001b[39m=\u001b[39;49m\u001b[39m\"\u001b[39;49m\u001b[39m\"\u001b[39;49m, save\u001b[39m=\u001b[39;49msave)\n",
      "File \u001b[0;32m~/.conda/envs/Base/envs/sctoolbox-3/lib/python3.9/site-packages/scanpy/plotting/_anndata.py:769\u001b[0m, in \u001b[0;36mviolin\u001b[0;34m(adata, keys, groupby, log, use_raw, stripplot, jitter, size, layer, scale, order, multi_panel, xlabel, ylabel, rotation, show, save, ax, **kwds)\u001b[0m\n\u001b[1;32m    763\u001b[0m     \u001b[39mraise\u001b[39;00m \u001b[39mValueError\u001b[39;00m(\n\u001b[1;32m    764\u001b[0m         \u001b[39mf\u001b[39m\u001b[39m'\u001b[39m\u001b[39mExpected number of y-labels to be `\u001b[39m\u001b[39m{\u001b[39;00m\u001b[39mlen\u001b[39m(keys)\u001b[39m}\u001b[39;00m\u001b[39m`, \u001b[39m\u001b[39m'\u001b[39m\n\u001b[1;32m    765\u001b[0m         \u001b[39mf\u001b[39m\u001b[39m'\u001b[39m\u001b[39mfound `\u001b[39m\u001b[39m{\u001b[39;00m\u001b[39mlen\u001b[39m(ylabel)\u001b[39m}\u001b[39;00m\u001b[39m`.\u001b[39m\u001b[39m'\u001b[39m\n\u001b[1;32m    766\u001b[0m     )\n\u001b[1;32m    768\u001b[0m \u001b[39mif\u001b[39;00m groupby \u001b[39mis\u001b[39;00m \u001b[39mnot\u001b[39;00m \u001b[39mNone\u001b[39;00m:\n\u001b[0;32m--> 769\u001b[0m     obs_df \u001b[39m=\u001b[39m get\u001b[39m.\u001b[39;49mobs_df(adata, keys\u001b[39m=\u001b[39;49m[groupby] \u001b[39m+\u001b[39;49m keys, layer\u001b[39m=\u001b[39;49mlayer, use_raw\u001b[39m=\u001b[39;49muse_raw)\n\u001b[1;32m    770\u001b[0m     \u001b[39mif\u001b[39;00m kwds\u001b[39m.\u001b[39mget(\u001b[39m'\u001b[39m\u001b[39mpalette\u001b[39m\u001b[39m'\u001b[39m, \u001b[39mNone\u001b[39;00m) \u001b[39mis\u001b[39;00m \u001b[39mNone\u001b[39;00m:\n\u001b[1;32m    771\u001b[0m         \u001b[39mif\u001b[39;00m \u001b[39mnot\u001b[39;00m is_categorical_dtype(adata\u001b[39m.\u001b[39mobs[groupby]):\n",
      "File \u001b[0;32m~/.conda/envs/Base/envs/sctoolbox-3/lib/python3.9/site-packages/scanpy/get/get.py:272\u001b[0m, in \u001b[0;36mobs_df\u001b[0;34m(adata, keys, obsm_keys, layer, gene_symbols, use_raw)\u001b[0m\n\u001b[1;32m    269\u001b[0m \u001b[39melse\u001b[39;00m:\n\u001b[1;32m    270\u001b[0m     alias_index \u001b[39m=\u001b[39m \u001b[39mNone\u001b[39;00m\n\u001b[0;32m--> 272\u001b[0m obs_cols, var_idx_keys, var_symbols \u001b[39m=\u001b[39m _check_indices(\n\u001b[1;32m    273\u001b[0m     adata\u001b[39m.\u001b[39;49mobs,\n\u001b[1;32m    274\u001b[0m     var\u001b[39m.\u001b[39;49mindex,\n\u001b[1;32m    275\u001b[0m     \u001b[39m\"\u001b[39;49m\u001b[39mobs\u001b[39;49m\u001b[39m\"\u001b[39;49m,\n\u001b[1;32m    276\u001b[0m     keys,\n\u001b[1;32m    277\u001b[0m     alias_index\u001b[39m=\u001b[39;49malias_index,\n\u001b[1;32m    278\u001b[0m     use_raw\u001b[39m=\u001b[39;49muse_raw,\n\u001b[1;32m    279\u001b[0m )\n\u001b[1;32m    281\u001b[0m \u001b[39m# Make df\u001b[39;00m\n\u001b[1;32m    282\u001b[0m df \u001b[39m=\u001b[39m pd\u001b[39m.\u001b[39mDataFrame(index\u001b[39m=\u001b[39madata\u001b[39m.\u001b[39mobs_names)\n",
      "File \u001b[0;32m~/.conda/envs/Base/envs/sctoolbox-3/lib/python3.9/site-packages/scanpy/get/get.py:167\u001b[0m, in \u001b[0;36m_check_indices\u001b[0;34m(dim_df, alt_index, dim, keys, alias_index, use_raw)\u001b[0m\n\u001b[1;32m    165\u001b[0m         not_found\u001b[39m.\u001b[39mappend(key)\n\u001b[1;32m    166\u001b[0m \u001b[39mif\u001b[39;00m \u001b[39mlen\u001b[39m(not_found) \u001b[39m>\u001b[39m \u001b[39m0\u001b[39m:\n\u001b[0;32m--> 167\u001b[0m     \u001b[39mraise\u001b[39;00m \u001b[39mKeyError\u001b[39;00m(\n\u001b[1;32m    168\u001b[0m         \u001b[39mf\u001b[39m\u001b[39m\"\u001b[39m\u001b[39mCould not find keys \u001b[39m\u001b[39m'\u001b[39m\u001b[39m{\u001b[39;00mnot_found\u001b[39m}\u001b[39;00m\u001b[39m'\u001b[39m\u001b[39m in columns of `adata.\u001b[39m\u001b[39m{\u001b[39;00mdim\u001b[39m}\u001b[39;00m\u001b[39m` or in\u001b[39m\u001b[39m\"\u001b[39m\n\u001b[1;32m    169\u001b[0m         \u001b[39mf\u001b[39m\u001b[39m\"\u001b[39m\u001b[39m \u001b[39m\u001b[39m{\u001b[39;00malt_repr\u001b[39m}\u001b[39;00m\u001b[39m.\u001b[39m\u001b[39m{\u001b[39;00malt_search_repr\u001b[39m}\u001b[39;00m\u001b[39m.\u001b[39m\u001b[39m\"\u001b[39m\n\u001b[1;32m    170\u001b[0m     )\n\u001b[1;32m    172\u001b[0m \u001b[39mreturn\u001b[39;00m col_keys, index_keys, index_aliases\n",
      "\u001b[0;31mKeyError\u001b[0m: \"Could not find keys '['SCSA_pred_celltype']' in columns of `adata.obs` or in adata.var_names.\""
     ]
    },
    {
     "data": {
      "image/png": "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",
      "text/plain": [
       "<Figure size 640x480 with 2 Axes>"
      ]
     },
     "metadata": {},
     "output_type": "display_data"
    }
   ],
   "source": [
    "compareFeatureToCelltypes(adata, [\"pct_fragments_in_stop_codon\", \"n_fragments_in_stop_codon\"], \"SCSA_pred_celltype\")\n",
    "compareFeatureToCelltypes(adata, \"pct_fragments_in_stop_codon\", \"SCSA_pred_celltype\")"
>>>>>>> 6abfd53696225f3a8c5b6d9faed18c3f1e552da0
   ]
  },
  {
   "cell_type": "markdown",
   "metadata": {},
   "source": [
<<<<<<< HEAD
    "### Display percentage in each feature for every celltype"
=======
    "### Display Celltype prediction and colored by percentage in each feature"
>>>>>>> 6abfd53696225f3a8c5b6d9faed18c3f1e552da0
   ]
  },
  {
   "cell_type": "code",
   "execution_count": null,
   "metadata": {
    "scrolled": true
   },
   "outputs": [],
   "source": [
<<<<<<< HEAD
    "sc.pl.umap(adata, color = item_list, ncols=2, legend_loc = 'right margin', groups=\"SCSA_pred_celltype\")"
   ]
  },
  {
   "cell_type": "code",
   "execution_count": null,
   "metadata": {
    "scrolled": true
   },
   "outputs": [],
   "source": [
    "sc.pl.correlation_matrix(adata, \"SCSA_pred_celltype\", figsize=(5,3.5))"
   ]
  },
  {
   "cell_type": "code",
   "execution_count": null,
   "metadata": {},
   "outputs": [],
   "source": [
    "sc.pl.stacked_violin(adata, item_list, groupby='SCSA_pred_celltype', swap_axes=False)"
=======
    "compareDimensionreductions(adata, [\"pct_fragments_in_three_prime_utr\", \"pct_fragments_in_five_prime_utr\"], \"SCSA_pred_celltype\")\n",
    "compareDimensionreductions(adata, \"pct_fragments_in_three_prime_utr\", \"SCSA_pred_celltype\")"
>>>>>>> 6abfd53696225f3a8c5b6d9faed18c3f1e552da0
   ]
  },
  {
   "cell_type": "markdown",
   "metadata": {},
   "source": [
    "# "
   ]
  }
 ],
 "metadata": {
  "kernelspec": {
   "display_name": "SCToolBox 2",
   "language": "python",
   "name": "sctoolbox2"
  },
  "language_info": {
   "codemirror_mode": {
    "name": "ipython",
    "version": 3
   },
   "file_extension": ".py",
   "mimetype": "text/x-python",
   "name": "python",
   "nbconvert_exporter": "python",
   "pygments_lexer": "ipython3",
   "version": "3.9.0"
  },
  "vscode": {
   "interpreter": {
    "hash": "a94c6ec83ec91f1aaec4088d2009e922e2acef3b2d4efa47577613d427c7584d"
   }
  },
  "widgets": {
   "application/vnd.jupyter.widget-state+json": {
    "state": {},
    "version_major": 2,
    "version_minor": 0
   }
  }
 },
 "nbformat": 4,
 "nbformat_minor": 2
}
