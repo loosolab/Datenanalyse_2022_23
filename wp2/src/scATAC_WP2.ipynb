{
 "cells": [
  {
   "cell_type": "markdown",
   "id": "b6fb8d93",
   "metadata": {},
   "source": [
    "# Processing scATAC Data"
   ]
  },
  {
   "cell_type": "markdown",
   "id": "eb35ff2e",
   "metadata": {},
   "source": [
    "## Load Data"
   ]
  },
  {
   "cell_type": "markdown",
   "id": "783c54f5",
   "metadata": {},
   "source": [
    "### Load packages"
   ]
  },
  {
   "cell_type": "code",
   "execution_count": 1,
   "id": "881462b1",
   "metadata": {},
   "outputs": [
    {
     "ename": "ModuleNotFoundError",
     "evalue": "No module named 'gff_analyser.atacFeatureGraphs'",
     "output_type": "error",
     "traceback": [
      "\u001b[0;31m---------------------------------------------------------------------------\u001b[0m",
      "\u001b[0;31mModuleNotFoundError\u001b[0m                       Traceback (most recent call last)",
      "Cell \u001b[0;32mIn [1], line 12\u001b[0m\n\u001b[1;32m     10\u001b[0m \u001b[39m# modules from gff_analyser/WP2\u001b[39;00m\n\u001b[1;32m     11\u001b[0m \u001b[39mimport\u001b[39;00m \u001b[39mgff_analyser\u001b[39;00m\u001b[39m.\u001b[39;00m\u001b[39mgffBuilder\u001b[39;00m \u001b[39mas\u001b[39;00m \u001b[39mgff\u001b[39;00m\n\u001b[0;32m---> 12\u001b[0m \u001b[39mimport\u001b[39;00m \u001b[39mgff_analyser\u001b[39;00m\u001b[39m.\u001b[39;00m\u001b[39matacFeatureGraphs\u001b[39;00m \u001b[39mas\u001b[39;00m \u001b[39mgraph\u001b[39;00m\n\u001b[1;32m     13\u001b[0m \u001b[39mfrom\u001b[39;00m \u001b[39mpybedtools\u001b[39;00m \u001b[39mimport\u001b[39;00m BedTool\n\u001b[1;32m     14\u001b[0m small_intestine_SM\n",
      "\u001b[0;31mModuleNotFoundError\u001b[0m: No module named 'gff_analyser.atacFeatureGraphs'"
     ]
    }
   ],
   "source": [
    "import os\n",
    "import numpy as np\n",
    "import scanpy as sc\n",
    "import pandas as pd\n",
    "import anndata as ad\n",
    "import episcanpy.api as epi\n",
    "from matplotlib import pyplot as plt\n",
    "from scipy.sparse import csr_matrix\n",
    "\n",
    "# modules from gff_analyser/WP2\n",
    "import gff_analyser.gffBuilder as gff\n",
    "import gff_analyser.atacFeatureGraphs as graph\n",
    "from pybedtools import BedTool\n",
    "# modules from sctoolbox\n",
    "from sctoolbox import annotation\n",
    "import sctoolbox.atac as atac\n",
    "import sctoolbox.calc_overlap_pct as overlap\n",
    "from sctoolbox import celltype_annotation"
   ]
  },
  {
   "cell_type": "markdown",
   "id": "50787828",
   "metadata": {},
   "source": [
    "### Specify required paths"
   ]
  },
  {
   "cell_type": "code",
   "execution_count": null,
   "id": "551a490f",
   "metadata": {},
   "outputs": [],
   "source": [
    "GTF_PATH = '/mnt/workspace_stud/stud3/homo_sapiens.104.mainChr.gtf'   # gtf file to use for peaks annotation\n",
    "INPUT_PATH = '/mnt/workspace_stud/stud3/h5ad_objects/'  # path where the h5ad object is saved\n",
    "OUTPUT_PATH = '/mnt/workspace_stud/stud3/compare_presentation/liver/'  # path where processed adata file can be save\n",
    "FRAG_FILE = '/mnt/workspace_stud/catlas_ref/frag/liver_SM-A8WNZ_rep1_fragments.bed.gz' # path to fragments file\n",
    "H5AD = 'colon_final.h5ad'  # name of the h5ad file\n",
    "enhancer_bed = '/mnt/workspace_stud/stud3/ENCFF212UAV.bed'\n",
    "blacklisted_bed = '/mnt/workspace_stud/stud3/ENCFF356LFX.bed'"
   ]
  },
  {
   "cell_type": "markdown",
   "id": "6d498245",
   "metadata": {},
   "source": [
    "### Sort the fragment file"
   ]
  },
  {
   "cell_type": "code",
   "execution_count": null,
   "id": "8365cf6b",
   "metadata": {},
   "outputs": [],
   "source": [
    "FRAG_FILE_sorted = gff.sort_bed(frag_file=FRAG_FILE, OUTPUT_PATH=OUTPUT_PATH)"
   ]
  },
  {
   "cell_type": "markdown",
   "id": "8ad8a48e",
   "metadata": {},
   "source": [
    "## Read and customize data"
   ]
  },
  {
   "cell_type": "markdown",
   "id": "1b201b4c",
   "metadata": {},
   "source": [
    "### Read Anndata object"
   ]
  },
  {
   "cell_type": "code",
   "execution_count": null,
   "id": "2b3fd429",
   "metadata": {},
   "outputs": [],
   "source": [
    "adata = epi.read_h5ad(H5AD)"
   ]
  },
  {
   "cell_type": "markdown",
   "id": "4f06a50c",
   "metadata": {},
   "source": [
    "### inspect adata.var"
   ]
  },
  {
   "cell_type": "code",
   "execution_count": null,
   "id": "5b678d0a",
   "metadata": {},
   "outputs": [],
   "source": [
    "adata.obs"
   ]
  },
  {
   "cell_type": "markdown",
   "id": "cc791254",
   "metadata": {},
   "source": [
    "## Save the h5ad now or later"
   ]
  },
  {
   "cell_type": "code",
   "execution_count": null,
   "id": "cc7ab2f2",
   "metadata": {},
   "outputs": [],
   "source": [
    "adata.write_h5ad('') # Target save path"
   ]
  },
  {
   "cell_type": "markdown",
   "id": "4bc0d009",
   "metadata": {},
   "source": [
    "#### Adjust peak names\n",
    "* if the features names are not in the format chr_start_end, reformat them to avoid issues in downstream analysis"
   ]
  },
  {
   "cell_type": "code",
   "execution_count": null,
   "id": "d8268a71",
   "metadata": {},
   "outputs": [],
   "source": [
    "names = []\n",
    "for name in bdata.var_names:\n",
    "    names.append(name)\n",
    "\n",
    "for i, n in enumerate(names):\n",
    "    tmp = names[i].replace(':', '_')\n",
    "    tmp = tmp.replace('-', '_')\n",
    "    tmp = tmp.split('_')\n",
    "    names[i] = '_'.join([tmp[0], tmp[-2], tmp[-1]])\n",
    "\n",
    "bdata.var_names = pd.Index(names)"
   ]
  },
  {
   "cell_type": "code",
   "execution_count": null,
   "id": "7ab7afb6",
   "metadata": {},
   "outputs": [],
   "source": [
    "names = []\n",
    "for name in adata.obs_names:\n",
    "    names.append(name)\n",
    "name\n",
    "for i, n in enumerate(names): # colon_sigmoid_SM-JF1O8_1+\n",
    "    tmp = names[i].split('+')\n",
    "    names[i] = tmp[-1]\n",
    "\n",
    "adata.obs_names = pd.Index(names, name='index')"
   ]
  },
  {
   "cell_type": "markdown",
   "id": "192d20eb",
   "metadata": {},
   "source": [
    "### inspect adata.obs"
   ]
  },
  {
   "cell_type": "code",
   "execution_count": null,
   "id": "4f35d491",
   "metadata": {},
   "outputs": [],
   "source": [
    "adata.obs"
   ]
  },
  {
   "cell_type": "markdown",
   "id": "d7ed60aa",
   "metadata": {},
   "source": [
    "### Calculate mean insertsize"
   ]
  },
  {
   "cell_type": "code",
   "execution_count": null,
   "id": "0561cce0",
   "metadata": {},
   "outputs": [],
   "source": [
    "atac.add_insertsize(adata, fragments=FRAG_FILE)"
   ]
  },
  {
   "cell_type": "code",
   "execution_count": null,
   "id": "fe2acc55",
   "metadata": {},
   "outputs": [],
   "source": [
    "# plot insert size\n",
    "atac.plot_insertsize(adata)"
   ]
  },
  {
   "cell_type": "markdown",
   "id": "e625d2e7",
   "metadata": {},
   "source": [
    "## Generate Feature.gtf Files\n",
    "##### Only if not already done before"
   ]
  },
  {
   "cell_type": "code",
   "execution_count": null,
   "id": "f0eace63",
   "metadata": {},
   "outputs": [],
   "source": [
    "gff.generate_feature_files(adata=adata, gtf_file=[GTF_PATH], fragments=FRAG_FILE_sorted, enhancer_bed=enhancer_bed, blacklisted_bed=blacklisted_bed, threshold=10, promoter_distance=2000, tss_distance=100, out=OUTPUT_PATH)"
   ]
  },
  {
   "cell_type": "markdown",
   "id": "e38ebe82",
   "metadata": {},
   "source": [
    "###  Promotor enrichment \n",
    "* To speed up calculation, use fragments file instead of a bam file and set bam_file=None\n",
    "* If cell barcodes are not in index, specify column name using parameter cb_col\n",
    "* Specify species: [homo_sapiens, mus_musculus, danio_rerio,...]"
   ]
  },
  {
   "cell_type": "code",
   "execution_count": null,
   "id": "cf992e26",
   "metadata": {
    "scrolled": false
   },
   "outputs": [],
   "source": [
    "overlap.pct_fragments_in_features(adata, input_dir=OUTPUT_PATH, fragments_file=FRAG_FILE_sorted1, bam_file=None, \n",
    "                                   cb_col=None, species=None)"
   ]
  },
  {
   "cell_type": "markdown",
   "id": "c97eb9f3",
   "metadata": {},
   "source": [
    "# Visualising the Features Data"
   ]
  },
  {
   "cell_type": "markdown",
   "id": "9397a74b",
   "metadata": {},
   "source": [
    "#### Filter per Feature\n",
    "* if there are too many graphs displayed, filter per Feature for a fast look. Graphs are saved even if not good portrayed in the notebook.\n",
    "* Fill the list with the features of interest\n",
    "* celltype_of_interetto look only for specific cell types listed inside the list"
   ]
  },
  {
   "cell_type": "code",
   "execution_count": null,
   "id": "1f3b01b7",
   "metadata": {},
   "outputs": [],
   "source": [
    "filtered = ['']\n",
    "celltype_filtered = ['']"
   ]
  },
  {
   "cell_type": "code",
   "execution_count": null,
   "id": "bf5e62c6",
   "metadata": {},
   "outputs": [],
   "source": [
    "celltype_of_interest = ['']\n",
    "adata_tmp = adata[adata.obs['CELLTYPE_COLUMN'].isin(celltype_of_interest)] # Enter column name where cell types are saved"
   ]
  },
  {
   "cell_type": "markdown",
   "id": "da750e2a",
   "metadata": {},
   "source": [
    "#### Display the Violin Plot\n",
    "* groupy cell type or other features for comparison\n"
   ]
  },
  {
   "cell_type": "code",
   "execution_count": null,
   "id": "95a180da",
   "metadata": {
    "scrolled": false
   },
   "outputs": [],
   "source": [
    "graph.violin_plots(adata_tmp, output=OUTPUT_PATH, group='cell type', filtered=filtered, multi_panel=False)"
   ]
  },
  {
   "cell_type": "markdown",
   "id": "fa5b38bf",
   "metadata": {},
   "source": [
    "#### Scatter Matrix\n",
    "* filter for single cell type possible"
   ]
  },
  {
   "cell_type": "code",
   "execution_count": null,
   "id": "d05f56de",
   "metadata": {},
   "outputs": [],
   "source": [
    "graph.scatter_plots(adata, output=OUTPUT_PATH, feature_filtered=filtered, celltype_filtered=celltype_filtered, figsize=[10,3])"
   ]
  },
  {
   "cell_type": "markdown",
   "id": "033ab16d",
   "metadata": {},
   "source": [
    "#### Scatter all graphs\n",
    "* if display_all is set True, list given to features will be used for y-axis. Otherwise features will get overwritten by the overall feature list, internally."
   ]
  },
  {
   "cell_type": "code",
   "execution_count": null,
   "id": "c3eddcf7",
   "metadata": {
    "scrolled": true
   },
   "outputs": [],
   "source": [
    "graph.simple_scatter(adata, output=OUTPUT_PATH ,feature=['n_fragments_in_CDS', 'n_total_fragments'], display_all=False)"
   ]
  },
  {
   "cell_type": "markdown",
   "id": "2b1afb9c",
   "metadata": {},
   "source": [
    "#### Multiplots. Violin and Scatter\n",
    "* for a comparison of two features for the group of interest."
   ]
  },
  {
   "cell_type": "code",
   "execution_count": null,
   "id": "05a3f15d",
   "metadata": {
    "scrolled": true
   },
   "outputs": [],
   "source": [
    "graph.multi_plot(adata, feature1='pct_fragments_in_enhancer', feature2='pct_fragments_in_promotor2000', group='cell type', out=OUTPUT_PATH, celltype_filtered=['Memory B Cell'], multi_panel=False)"
   ]
  },
  {
   "cell_type": "markdown",
   "id": "70ff3080",
   "metadata": {},
   "source": [
    "## QC"
   ]
  },
  {
   "cell_type": "markdown",
   "id": "be2ea5e6",
   "metadata": {},
   "source": [
    "### Remove chrM"
   ]
  },
  {
   "cell_type": "code",
   "execution_count": null,
   "id": "47c45463",
   "metadata": {},
   "outputs": [],
   "source": [
    "non_m = [name for name in adata.var_names if not name.startswith('chrM')]\n",
    "adata = adata[:, non_m]\n",
    "display(adata)"
   ]
  },
  {
   "cell_type": "markdown",
   "id": "11d6d588",
   "metadata": {},
   "source": [
    "### Optional: Remove chrX and chrY"
   ]
  },
  {
   "cell_type": "code",
   "execution_count": null,
   "id": "f7edb126",
   "metadata": {},
   "outputs": [],
   "source": [
    "non_xy = [name for name in adata.var_names if not name.startswith('chrY') | name.startswith('chrX')]\n",
    "adata = adata[:, non_xy]\n",
    "display(adata)"
   ]
  },
  {
   "cell_type": "markdown",
   "id": "dc35ba73",
   "metadata": {},
   "source": [
    "### Remove cells without features or empty features"
   ]
  },
  {
   "cell_type": "code",
   "execution_count": null,
   "id": "8eb62d82",
   "metadata": {},
   "outputs": [],
   "source": [
    "# remove cells with empty features\n",
    "epi.pp.filter_cells(adata, min_features=1)\n",
    "# remove features with no cells\n",
    "epi.pp.filter_features(adata, min_cells=1)\n",
    "\n",
    "# calculate the log of the number of features in each cell\n",
    "adata.obs['log_nb_features'] = [np.log10(x) for x in adata.obs['nb_features']]\n",
    "adata"
   ]
  },
  {
   "cell_type": "markdown",
   "id": "f5af9da3",
   "metadata": {},
   "source": [
    "### Binarize matrix and save different layers"
   ]
  },
  {
   "cell_type": "code",
   "execution_count": null,
   "id": "12ae2aff",
   "metadata": {},
   "outputs": [],
   "source": [
    "adata.raw = adata"
   ]
  },
  {
   "cell_type": "code",
   "execution_count": null,
   "id": "2c320065",
   "metadata": {},
   "outputs": [],
   "source": [
    "epi.pp.binarize(adata)\n",
    "adata.layers['binary'] = adata.X.copy()"
   ]
  },
  {
   "cell_type": "markdown",
   "id": "138488cb",
   "metadata": {},
   "source": [
    "## Filter Data"
   ]
  },
  {
   "cell_type": "markdown",
   "id": "e50a0de4",
   "metadata": {},
   "source": [
    "### Promoter enrichment"
   ]
  },
  {
   "cell_type": "code",
   "execution_count": null,
   "id": "f8ddbd08",
   "metadata": {},
   "outputs": [],
   "source": [
    "# plot promoter enrichment\n",
    "sc.pl.violin(adata, keys = ['pct_fragments_in_promotor2000'], groupby = None, rotation=90)"
   ]
  },
  {
   "cell_type": "code",
   "execution_count": null,
   "id": "13425c38",
   "metadata": {},
   "outputs": [],
   "source": [
    "# filter cells based on percentage of fragments in promoters\n",
    "adata = adata[adata.obs['pct_fragments_in_promotor2000'] > 0.2]"
   ]
  },
  {
   "cell_type": "markdown",
   "id": "5f4138de",
   "metadata": {},
   "source": [
    "### Visualize feature distribution (Histogram)"
   ]
  },
  {
   "cell_type": "code",
   "execution_count": null,
   "id": "8f2b3322",
   "metadata": {},
   "outputs": [],
   "source": [
    "# show open features per cell\n",
    "min_features = 100\n",
    "\n",
    "epi.pp.coverage_cells(adata, binary=True, log=False, bins=50,\n",
    "               threshold=min_features)\n",
    "epi.pp.coverage_cells(adata, binary=True, log=False, bins=50,\n",
    "               threshold=min_features)"
   ]
  },
  {
   "cell_type": "markdown",
   "id": "c82003ef",
   "metadata": {},
   "source": [
    "### Visualize feature distribution (Violin)"
   ]
  },
  {
   "cell_type": "code",
   "execution_count": null,
   "id": "425dab0e",
   "metadata": {},
   "outputs": [],
   "source": [
    "epi.pl.violin(adata, ['nb_features'])\n",
    "epi.pl.violin(adata, ['log_nb_features'])"
   ]
  },
  {
   "cell_type": "markdown",
   "id": "9d8d1b59",
   "metadata": {},
   "source": [
    "### Filter cells"
   ]
  },
  {
   "cell_type": "code",
   "execution_count": null,
   "id": "6b2b8830",
   "metadata": {},
   "outputs": [],
   "source": [
    "# filter cells which have at least min_features and at most max_features\n",
    "epi.pp.filter_cells(adata, min_features=150)\n",
    "epi.pp.filter_cells(adata, max_features=10000)"
   ]
  },
  {
   "cell_type": "markdown",
   "id": "2fcdc99f",
   "metadata": {},
   "source": [
    "### Visualize distribution of cells sharing a feature"
   ]
  },
  {
   "cell_type": "code",
   "execution_count": null,
   "id": "a78b6d6b",
   "metadata": {},
   "outputs": [],
   "source": [
    "# show numbers of cells sharing features\n",
    "min_cells = 10\n",
    "\n",
    "epi.pp.coverage_features(adata, binary=True, log=False, bins=50,\n",
    "               threshold=min_cells)\n",
    "epi.pp.coverage_features(adata, binary=True, log=False, bins=50,\n",
    "               threshold=min_cells)"
   ]
  },
  {
   "cell_type": "markdown",
   "id": "6bcae325",
   "metadata": {},
   "source": [
    "### Filter features"
   ]
  },
  {
   "cell_type": "code",
   "execution_count": null,
   "id": "8370304a",
   "metadata": {},
   "outputs": [],
   "source": [
    "# filter features that appear in at least min_cells and at most max_cells\n",
    "epi.pp.filter_features(adata, min_cells=10)\n",
    "epi.pp.filter_features(adata, max_cells=200)"
   ]
  },
  {
   "cell_type": "markdown",
   "id": "9b66ef06",
   "metadata": {},
   "source": [
    "### Visualize feature distribution after filtering"
   ]
  },
  {
   "cell_type": "code",
   "execution_count": null,
   "id": "1c070c6c",
   "metadata": {},
   "outputs": [],
   "source": [
    "# visualize\n",
    "epi.pl.violin(adata, ['nb_features'])\n",
    "epi.pl.violin(adata, ['log_nb_features'])"
   ]
  },
  {
   "cell_type": "code",
   "execution_count": null,
   "id": "5a6590bf",
   "metadata": {},
   "outputs": [],
   "source": [
    "# show open features per cell\n",
    "min_features = 100\n",
    "\n",
    "epi.pp.coverage_cells(adata, binary=True, log=False, bins=50,\n",
    "               threshold=min_features)\n",
    "epi.pp.coverage_cells(adata, binary=True, log=10, bins=50,\n",
    "               threshold=min_features)\n",
    "\n",
    "# show numbers of cells sharing features\n",
    "min_cells = 10\n",
    "\n",
    "epi.pp.coverage_features(adata, binary=True, log=False, bins=50,\n",
    "               threshold=min_cells)\n",
    "epi.pp.coverage_features(adata, binary=True, log=10, bins=50,\n",
    "               threshold=min_cells)\n",
    "\n",
    "# calculate varibaility score\n",
    "epi.pp.cal_var(adata)"
   ]
  },
  {
   "cell_type": "markdown",
   "id": "edb90c18",
   "metadata": {},
   "source": [
    "### Normalize remaining data"
   ]
  },
  {
   "cell_type": "code",
   "execution_count": null,
   "id": "53f260f5",
   "metadata": {},
   "outputs": [],
   "source": [
    "sc.pp.normalize_total(adata)\n",
    "adata.layers['normalised'] = adata.X.copy()\n",
    "\n",
    "# log-normalize\n",
    "epi.pp.log1p(adata)"
   ]
  },
  {
   "cell_type": "markdown",
   "id": "b7aee91f",
   "metadata": {},
   "source": [
    "## Dimension reduction and clustering"
   ]
  },
  {
   "cell_type": "markdown",
   "id": "01a6a0a1",
   "metadata": {},
   "source": [
    "### Calculate PCA and neighbors"
   ]
  },
  {
   "cell_type": "code",
   "execution_count": null,
   "id": "eb14ab21",
   "metadata": {},
   "outputs": [],
   "source": [
    "# Plot PCA variance ratio for selection of PCs\n",
    "sc.pl.pca_variance_ratio(adata, n_pcs = 30)"
   ]
  },
  {
   "cell_type": "markdown",
   "id": "f1be75f5",
   "metadata": {},
   "source": [
    "### Calculate UMAP"
   ]
  },
  {
   "cell_type": "code",
   "execution_count": null,
   "id": "ce025a59",
   "metadata": {},
   "outputs": [],
   "source": [
    "sc.tl.umap(adata, min_dist=0.1, spread=2.0)"
   ]
  },
  {
   "cell_type": "code",
   "execution_count": null,
   "id": "6c34d326",
   "metadata": {},
   "outputs": [],
   "source": [
    "# Visualize cells in UMAP\n",
    "sc.pl.umap(adata, color = 'nb_features', legend_loc = 'right margin')"
   ]
  },
  {
   "cell_type": "markdown",
   "id": "53a3ee03",
   "metadata": {},
   "source": [
    "### Cluster with leiden algorithm and show UMAP"
   ]
  },
  {
   "cell_type": "code",
   "execution_count": null,
   "id": "792fe025",
   "metadata": {
    "scrolled": true
   },
   "outputs": [],
   "source": [
    "sc.tl.leiden(adata, resolution=0.2, use_weights=False)\n",
    "\n",
    "sc.pl.umap(adata, color=['leiden'])"
   ]
  },
  {
   "cell_type": "markdown",
   "id": "a27dc925",
   "metadata": {},
   "source": [
    "## Peaks Annotation"
   ]
  },
  {
   "cell_type": "markdown",
   "id": "1a80f791",
   "metadata": {},
   "source": [
    "### UROPA"
   ]
  },
  {
   "cell_type": "code",
   "execution_count": null,
   "id": "2161eaf7",
   "metadata": {},
   "outputs": [],
   "source": [
    "custom_config = {\"queries\": [{\"feature\": 'gene', \"distance\": [5000, 5000], \"feature_anchor\": \"start\"}],\n",
    "                 \"priority\": True, \n",
    "                 \"show_attributes\": \"all\"}"
   ]
  },
  {
   "cell_type": "code",
   "execution_count": null,
   "id": "5649a66c",
   "metadata": {},
   "outputs": [],
   "source": [
    "annotation.annotate_adata(adata, gtf=GTF_PATH, config=custom_config, best=True, threads=3, coordinate_cols=None, temp_dir=\"\", remove_temp=True, verbose=True, inplace=True)"
   ]
  },
  {
   "cell_type": "markdown",
   "id": "712f73c0",
   "metadata": {},
   "source": [
    "#### filter unassigned peaks in uropa"
   ]
  },
  {
   "cell_type": "code",
   "execution_count": null,
   "id": "287deeb2",
   "metadata": {},
   "outputs": [],
   "source": [
    "assigned_peaks = adata.var[adata.var['gene_name'].notnull()]\n",
    "uropa_adata = adata[:,assigned_peaks.index]\n",
    "uropa_adata"
   ]
  },
  {
   "cell_type": "markdown",
   "id": "7c10db25",
   "metadata": {},
   "source": [
    "### Replace peaks with gene names\n",
    "Make new feature names unique and write them into raw"
   ]
  },
  {
   "cell_type": "code",
   "execution_count": null,
   "id": "51e6ef64",
   "metadata": {},
   "outputs": [],
   "source": [
    "uropa_adata.var.reset_index(inplace=True)\n",
    "uropa_adata.var.set_index('gene_id', inplace=True)"
   ]
  },
  {
   "cell_type": "code",
   "execution_count": null,
   "id": "398f2d19",
   "metadata": {},
   "outputs": [],
   "source": [
    "uropa_adata.var.index = uropa_adata.var.index.astype('object')"
   ]
  },
  {
   "cell_type": "code",
   "execution_count": null,
   "id": "34211a20",
   "metadata": {},
   "outputs": [],
   "source": [
    "uropa_adata.raw"
   ]
  },
  {
   "cell_type": "code",
   "execution_count": null,
   "id": "7c8d1a88",
   "metadata": {},
   "outputs": [],
   "source": [
    "uropa_adata.var_names_make_unique(join=\"_\")\n",
    "uropa_adata.raw = uropa_adata.copy()\n",
    "uropa_adata.var"
   ]
  },
  {
   "cell_type": "markdown",
   "id": "a62a5673",
   "metadata": {},
   "source": [
    "### Rank genes"
   ]
  },
  {
   "cell_type": "code",
   "execution_count": null,
   "id": "4856d6e4",
   "metadata": {},
   "outputs": [],
   "source": [
    "sc.tl.rank_genes_groups(uropa_adata, groupby='leiden', use_raw=False)\n",
    "\n",
    "sc.pl.rank_genes_groups(uropa_adata)"
   ]
  },
  {
   "cell_type": "code",
   "execution_count": null,
   "id": "70e46b73",
   "metadata": {},
   "outputs": [],
   "source": [
    "sc.pl.rank_genes_groups_matrixplot(uropa_adata, standard_scale='var', n_genes=10)"
   ]
  },
  {
   "cell_type": "markdown",
   "id": "5accd5f8",
   "metadata": {},
   "source": [
    "## Celltype annotation"
   ]
  },
  {
   "cell_type": "code",
   "execution_count": null,
   "id": "29ce32e4",
   "metadata": {},
   "outputs": [],
   "source": [
    "celltype_annotation.run_scsa(uropa_adata, species='human')"
   ]
  },
  {
   "attachments": {},
   "cell_type": "markdown",
   "id": "7bd06678",
   "metadata": {},
   "source": [
    "### Visualize with UMAP"
   ]
  },
  {
   "cell_type": "code",
   "execution_count": null,
   "id": "d92e9a42",
   "metadata": {},
   "outputs": [],
   "source": [
    "# Visualize cells in UMAP\n",
    "sc.pl.umap(uropa_adata, color = 'SCSA_pred_celltype', title = 'Predicted Celltypes', legend_loc = 'right margin')"
   ]
  },
  {
   "attachments": {},
   "cell_type": "markdown",
   "id": "de741a28",
   "metadata": {},
   "source": [
    "#### Generate lists for different features"
   ]
  },
  {
   "cell_type": "code",
   "execution_count": null,
   "id": "b181f6d2",
   "metadata": {},
   "outputs": [],
   "source": [
    "pct_features = []\n",
    "n_features = []\n",
    "for item in adata.obs:\n",
    "    if item.startswith('n_'):\n",
    "        n_features.append(item)\n",
    "    if item.startswith('pct_'):\n",
    "        pct_features.append(item)"
   ]
  },
  {
   "attachments": {},
   "cell_type": "markdown",
   "id": "dd9afb69",
   "metadata": {},
   "source": [
    "### Display Plots"
   ]
  },
  {
   "attachments": {},
   "cell_type": "markdown",
   "id": "8cdd85d3",
   "metadata": {},
   "source": [
    "#### Violin Plots"
   ]
  },
  {
   "cell_type": "code",
   "execution_count": null,
   "id": "45205403",
   "metadata": {},
   "outputs": [],
   "source": [
    "compare_feature_to_celltypes(adata, [\"pct_fragments_in_enhancer\", \"pct_fragments_in_promotor2000\"], \"cell type\", max_size=1, name='Ylabel name', rotation=0)"
   ]
  },
  {
   "attachments": {},
   "cell_type": "markdown",
   "id": "d4efa1ad",
   "metadata": {},
   "source": [
    "#### Scatter Plots"
   ]
  },
  {
   "cell_type": "code",
   "execution_count": null,
   "id": "efc2ee1e",
   "metadata": {},
   "outputs": [],
   "source": [
    "sc.pl.scatter(adata, x='n_fragments_in_enhancer', y='n_fragments_in_promotor2000')\n"
   ]
  },
  {
   "attachments": {},
   "cell_type": "markdown",
   "id": "eb5b7774",
   "metadata": {},
   "source": [
    "#### Dimension Reduction"
   ]
  },
  {
   "cell_type": "code",
   "execution_count": null,
   "id": "5f93f24c",
   "metadata": {},
   "outputs": [],
   "source": [
    "graph.compare_dimensionreductions(adata, [features_of_interest], 'cell type')"
   ]
  }
 ],
 "metadata": {
  "kernelspec": {
   "display_name": "SCToolBox 2",
   "language": "python",
   "name": "sctoolbox2"
  },
  "language_info": {
   "codemirror_mode": {
    "name": "ipython",
    "version": 3
   },
   "file_extension": ".py",
   "mimetype": "text/x-python",
   "name": "python",
   "nbconvert_exporter": "python",
   "pygments_lexer": "ipython3",
   "version": "3.9.0"
  },
  "vscode": {
   "interpreter": {
    "hash": "e7370f93d1d0cde622a1f8e1c04877d8463912d04d973331ad4851f04de6915a"
   }
  }
 },
 "nbformat": 4,
 "nbformat_minor": 5
}
