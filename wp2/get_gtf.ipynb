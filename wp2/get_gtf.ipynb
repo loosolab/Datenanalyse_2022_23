{
 "cells": [
  {
   "cell_type": "code",
   "execution_count": null,
   "id": "dfff02f1",
   "metadata": {},
   "outputs": [],
   "source": [
    "from gff_analyser import gffClasses, gffBuilder\n",
    "from pybedtools import BedTool\n",
    "import os\n",
    "import sys\n",
    "import pandas as pd"
   ]
  },
  {
   "cell_type": "code",
   "execution_count": null,
   "id": "e8c7e6a4",
   "metadata": {},
   "outputs": [],
   "source": [
    "#GTF_PATH = '/home/stud3/notebooks/homo_sapiens.104.mainChr.gtf'\n",
    "GTF_PATH = '/mnt/workspace_stud/allstud/homo_sapiens.104.mainChr.gtf'\n",
    "\n",
    "enhancer_bed = '/home/stud3/notebooks/ENCFF212UAV.bed'\n",
    "blacklisted_bed = '/home/stud3/notebooks/ENCFF356LFX.bed'\n",
    "\n",
    "frag = '/home/stud3/notebooks/stomach_SM-JF1O3_rep1_fragments_sorted.bed'\n",
    "\n",
    "INPUT_PATH = '/mnt/workspace_stud/catlas_ref/cellXcCRE/'\n",
    "H5AD = 'stomach_SM-JF1O3.h5ad' \n",
    "test = '/home/stud3/notebooks/stomach_more_cluster.h5ad'\n"
   ]
  },
  {
   "cell_type": "code",
   "execution_count": null,
   "id": "c14c47c3",
   "metadata": {},
   "outputs": [],
   "source": [
    "def generate_feature_files(fragments, threshold=10):\n",
    "    \n",
    "    object_list = gffBuilder.build_gff3_class(file=GTF_PATH)\n",
    "    \n",
    "    \n",
    "    for element in object_list:\n",
    "        features = element.count_features()\n",
    "\n",
    "        element.generate_feature_gtf(gffdata_list=object_list, feature_keys=features)\n",
    "        element.generate_promotor_gtf(gffdata_list=object_list, promotor_distance=2000)\n",
    "        element.generate_tss_gtf(gffdata_list=object_list, tss_distance=100)\n",
    "        element.generate_gene_body_gtf(gffdata_list=object_list)\n",
    "    \n",
    "        # Getting bedtools Path\n",
    "        bedtools = os.path.join('/'.join(sys.executable.split('/')[:-1]),'bedtools')\n",
    "\n",
    "        \n",
    "        \n",
    "        # Load the bed file into a pandas dataframe\n",
    "        bed_df = pd.read_table(fragments, header=None, names=[\"chrom\", \"start\", \"end\", \"feature\", \"count\", \"strand\"])\n",
    "\n",
    "        # Filter the dataframe based on a count threshold\n",
    "        \n",
    "        filtered_df = bed_df[bed_df[\"count\"] > threshold]\n",
    "\n",
    "        filename = f\"{fragments}.peak{threshold}.bed\"\n",
    "        # Print the filtered dataframe\n",
    "        filtered_df.to_csv(filename ,sep='\\t', index=None) \n",
    "        \n",
    "        peakfile = f\"{fragments}.peak{threshold}.bed\"\n",
    "\n",
    "        # Getting the peak-GTF\n",
    "        intersect_cmd = f'{bedtools} intersect -a {GTF_PATH} -b {peakfile} > out/homo_sapiens.104.mainChr.peak{threshold}.gtf'\n",
    "        os.system(intersect_cmd)\n",
    "        print(\"Peaks done\")\n",
    "\n",
    "        # Getting the enhancer-GTF \n",
    "        intersect_cmd = f'{bedtools} intersect -a {GTF_PATH} -b {enhancer_bed} > out/homo_sapiens.104.mainChr.enhancer.gtf'\n",
    "        os.system(intersect_cmd)\n",
    "        print(\"Enhancers done\")\n",
    "\n",
    "        # Getting the exclusion_list-GTF\n",
    "        intersect_cmd = f'{bedtools} intersect -a {GTF_PATH}  -b {blacklisted_bed} > out/homo_sapiens.104.mainChr.blacklisted.gtf'\n",
    "        os.system(intersect_cmd)\n",
    "        print(\"Blacklist done\")"
   ]
  },
  {
   "cell_type": "code",
   "execution_count": null,
   "id": "874577a6",
   "metadata": {},
   "outputs": [],
   "source": [
    "generate_feature_files(fragments=frag)"
   ]
  },
  {
   "cell_type": "code",
   "execution_count": null,
   "id": "7bbacaae",
   "metadata": {},
   "outputs": [],
   "source": []
  }
 ],
 "metadata": {
  "kernelspec": {
   "display_name": "sctoolbox",
   "language": "python",
   "name": "sctoolbox"
  },
  "language_info": {
   "codemirror_mode": {
    "name": "ipython",
    "version": 3
   },
   "file_extension": ".py",
   "mimetype": "text/x-python",
   "name": "python",
   "nbconvert_exporter": "python",
   "pygments_lexer": "ipython3",
   "version": "3.9.15"
  }
 },
 "nbformat": 4,
 "nbformat_minor": 5
}
