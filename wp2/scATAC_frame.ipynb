{
 "cells": [
  {
   "cell_type": "markdown",
   "id": "b6fb8d93",
   "metadata": {},
   "source": [
    "# Processing scATAC Data"
   ]
  },
  {
   "cell_type": "markdown",
   "id": "eb35ff2e",
   "metadata": {},
   "source": [
    "## Load Data"
   ]
  },
  {
   "cell_type": "markdown",
   "id": "783c54f5",
   "metadata": {},
   "source": [
    "### Load packages"
   ]
  },
  {
   "cell_type": "code",
   "execution_count": null,
   "id": "881462b1",
   "metadata": {},
   "outputs": [],
   "source": [
    "import os\n",
    "import numpy as np\n",
    "import scanpy as sc\n",
    "import pandas as pd\n",
    "import anndata as ad\n",
    "import episcanpy.api as epi\n",
    "from matplotlib import pyplot as plt\n",
    "# modules from gff-analyser\n",
    "from gff_analyser import gffClasses, gffBuilder\n",
    "# modules from sctoolbox\n",
    "from sctoolbox import annotation\n",
    "import sctoolbox.atac as atac\n",
    "import sctoolbox.calc_overlap_pct as overlap\n",
    "from sctoolbox import celltype_annotation\n",
    "import hdf5plugin"
   ]
  },
  {
   "cell_type": "code",
   "execution_count": null,
   "id": "712303c8",
   "metadata": {},
   "outputs": [],
   "source": [
    "adata.write_h5ad(\n",
    "    'stomach_feature.h5ad',\n",
    "    \n",
    ")"
   ]
  },
  {
   "cell_type": "markdown",
   "id": "50787828",
   "metadata": {},
   "source": [
    "### Specify required paths"
   ]
  },
  {
   "cell_type": "code",
   "execution_count": null,
   "id": "551a490f",
   "metadata": {},
   "outputs": [],
   "source": [
    "GTF_PATH = '/home/stud3/notebooks/homo_sapiens.104.mainChr.gtf'  # gtf file to use for peaks annotation\n",
    "GTF_ANALYSE = '/home/stud3/notebooks/out/homo_sapiens.104.mainChr_CDS_.gtf'\n",
    "GTF_UROPA = '/home/stud3/notebooks/homo_sapiens.104.mainChr.gtf.gz'\n",
    "INPUT_PATH = '/mnt/workspace_stud/catlas_ref/cellXcCRE/'  # path where the h5ad object is saved\n",
    "OUTPUT_PATH = '/home/stud3/'  # path where processed adata file can be save\n",
    "FRAG_FILE = '/home/stud3/notebooks/stomach_SM-JF1O3_rep1_fragments.bed.gz'  # path to fragments file\n",
    "FRAG_FILE_sorted = '/home/stud3/notebooks/stomach_SM-JF1O3_rep1_fragments_sorted.bed'\n",
    "BAM_FILE = ''  # path to bam file\n",
    "test = '/home/stud3/notebooks/stomach_feature.h5ad'\n",
    "test_ca = '/home/stud3/notebooks/stomach_test_ca.h5ad'\n",
    "test_ca_uropa = '/home/stud3/notebooks/stomach_test_ca_uropa.h5ad'\n",
    "H5AD = 'stomach_SM-JF1O3.h5ad'  # name of the h5ad file"
   ]
  },
  {
   "cell_type": "code",
   "execution_count": null,
   "id": "07d7d81a",
   "metadata": {},
   "outputs": [],
   "source": [
    "object_list = gffBuilder.build_gff3_class(file=GTF_PATH)\n",
    "\n",
    "for element in object_list:\n",
    "    features = element.count_features()\n",
    "\n",
    "    element.generate_feature_gtf(Gffdata_list=object_list, feature_keys=features)"
   ]
  },
  {
   "cell_type": "markdown",
   "id": "8ad8a48e",
   "metadata": {},
   "source": [
    "## Read and customize data"
   ]
  },
  {
   "cell_type": "markdown",
   "id": "1b201b4c",
   "metadata": {},
   "source": [
    "### Read Anndata object"
   ]
  },
  {
   "cell_type": "code",
   "execution_count": null,
   "id": "2b3fd429",
   "metadata": {},
   "outputs": [],
   "source": [
    "adata = epi.read_h5ad(INPUT_PATH + H5AD)\n",
    "adata"
   ]
  },
  {
   "cell_type": "markdown",
   "id": "4f06a50c",
   "metadata": {},
   "source": [
    "### inspect adata.var"
   ]
  },
  {
   "cell_type": "code",
   "execution_count": null,
   "id": "94d59f14",
   "metadata": {},
   "outputs": [],
   "source": [
    "adata = epi.read_h5ad(test)"
   ]
  },
  {
   "cell_type": "markdown",
   "id": "4bc0d009",
   "metadata": {},
   "source": [
    "#### Adjust peak names\n",
    "* if the features names are not in the format chr_start_end, reformat them to avoid issues in downstream analysis"
   ]
  },
  {
   "cell_type": "code",
   "execution_count": null,
   "id": "d8268a71",
   "metadata": {},
   "outputs": [],
   "source": [
    "names = []\n",
    "for name in adata.var_names:\n",
    "    names.append(name)\n",
    "\n",
    "for i, n in enumerate(names):\n",
    "    tmp = names[i].replace(':', '_')\n",
    "    tmp = tmp.replace('-', '_')\n",
    "    tmp = tmp.split('_')\n",
    "    names[i] = '_'.join([tmp[0], tmp[-2], tmp[-1]])\n",
    "\n",
    "adata.var_names = pd.Index(names)"
   ]
  },
  {
   "cell_type": "markdown",
   "id": "192d20eb",
   "metadata": {},
   "source": [
    "### inspect adata.obs"
   ]
  },
  {
   "cell_type": "code",
   "execution_count": null,
   "id": "4f35d491",
   "metadata": {},
   "outputs": [],
   "source": [
    "adata.obs"
   ]
  },
  {
   "cell_type": "markdown",
   "id": "d7ed60aa",
   "metadata": {},
   "source": [
    "### Calculate mean insertsize"
   ]
  },
  {
   "cell_type": "code",
   "execution_count": null,
   "id": "53c67b49",
   "metadata": {},
   "outputs": [],
   "source": [
    "adata.obs"
   ]
  },
  {
   "cell_type": "code",
   "execution_count": null,
   "id": "04e6e94d",
   "metadata": {},
   "outputs": [],
   "source": [
    "names = []\n",
    "for name in adata.obs_names:\n",
    "    names.append(name)\n",
    "\n",
    "for i, n in enumerate(names): # colon_sigmoid_SM-JF1O8_1+\n",
    "    tmp = names[i].split('+')\n",
    "    names[i] = tmp[-1]\n",
    "\n",
    "adata.obs_names = pd.Index(names, name='index')"
   ]
  },
  {
   "cell_type": "code",
   "execution_count": null,
   "id": "0561cce0",
   "metadata": {},
   "outputs": [],
   "source": [
    "atac.add_insertsize(adata, fragments=FRAG_FILE_sorted)"
   ]
  },
  {
   "cell_type": "code",
   "execution_count": null,
   "id": "fe2acc55",
   "metadata": {},
   "outputs": [],
   "source": [
    "# plot insert size\n",
    "atac.plot_insertsize(adata)"
   ]
  },
  {
   "cell_type": "code",
   "execution_count": null,
   "id": "02a0e06f",
   "metadata": {},
   "outputs": [],
   "source": [
    "adata"
   ]
  },
  {
   "cell_type": "markdown",
   "id": "e38ebe82",
   "metadata": {},
   "source": [
    "###  Promotor enrichment \n",
    "* To speed up calculation, use fragments file instead of a bam file and set bam_file=None\n",
    "* If cell barcodes are not in index, specify column name using parameter cb_col\n",
    "* Specify species: [homo_sapiens, mus_musculus, danio_rerio,...]"
   ]
  },
  {
   "cell_type": "code",
   "execution_count": null,
   "id": "cf992e26",
   "metadata": {
    "scrolled": false
   },
   "outputs": [],
   "source": [
    "species = 'homo_sapiens'\n",
    "#frag files müssen unzipped werden und danach sortiert \n",
    "overlap.pct_fragments_in_features(adata, input_dir='out/', fragments_file=FRAG_FILE_sorted, bam_file=None, \n",
    "                                   cb_col=None, species=None)"
   ]
  },
  {
   "cell_type": "code",
   "execution_count": null,
   "id": "3a9ff4e0",
   "metadata": {},
   "outputs": [],
   "source": [
    "# remove cells with empty features\n",
    "epi.pp.filter_cells(adata, min_features=1)\n",
    "# remove features with no cells\n",
    "epi.pp.filter_features(adata, min_cells=1)"
   ]
  },
  {
   "cell_type": "markdown",
   "id": "70ff3080",
   "metadata": {},
   "source": [
    "## QC"
   ]
  },
  {
   "cell_type": "code",
   "execution_count": null,
   "id": "98643046",
   "metadata": {},
   "outputs": [],
   "source": [
    "adata.obs['nb_features']"
   ]
  },
  {
   "cell_type": "markdown",
   "id": "be2ea5e6",
   "metadata": {},
   "source": [
    "### Remove chrM"
   ]
  },
  {
   "cell_type": "code",
   "execution_count": null,
   "id": "47c45463",
   "metadata": {},
   "outputs": [],
   "source": [
    "non_m = [name for name in adata.var_names if not name.startswith('chrM')]\n",
    "adata = adata[:, non_m]\n",
    "display(adata)"
   ]
  },
  {
   "cell_type": "markdown",
   "id": "11d6d588",
   "metadata": {},
   "source": [
    "### Optional: Remove chrX and chrY"
   ]
  },
  {
   "cell_type": "code",
   "execution_count": null,
   "id": "f7edb126",
   "metadata": {},
   "outputs": [],
   "source": [
    "non_xy = [name for name in adata.var_names if not name.startswith('chrY') | name.startswith('chrX')]\n",
    "adata = adata[:, non_xy]\n",
    "display(adata)"
   ]
  },
  {
   "cell_type": "markdown",
   "id": "dc35ba73",
   "metadata": {},
   "source": [
    "### Remove cells without features or empty features"
   ]
  },
  {
   "cell_type": "code",
   "execution_count": null,
   "id": "8eb62d82",
   "metadata": {},
   "outputs": [],
   "source": [
    "# remove cells with empty features\n",
    "epi.pp.filter_cells(adata, min_features=1)\n",
    "# remove features with no cells\n",
    "epi.pp.filter_features(adata, min_cells=1)\n",
    "\n",
    "# calculate the log of the number of features in each cell\n",
    "adata.obs['log_nb_features'] = [np.log10(x) for x in adata.obs['nb_features']]\n",
    "adata"
   ]
  },
  {
   "cell_type": "markdown",
   "id": "f5af9da3",
   "metadata": {},
   "source": [
    "### Binarize matrix and save different layers"
   ]
  },
  {
   "cell_type": "code",
   "execution_count": null,
   "id": "12ae2aff",
   "metadata": {},
   "outputs": [],
   "source": [
    "adata.raw = adata"
   ]
  },
  {
   "cell_type": "code",
   "execution_count": null,
   "id": "2c320065",
   "metadata": {},
   "outputs": [],
   "source": [
    "epi.pp.binarize(adata)\n",
    "adata.layers['binary'] = adata.X.copy()"
   ]
  },
  {
   "cell_type": "markdown",
   "id": "138488cb",
   "metadata": {},
   "source": [
    "## Filter Data"
   ]
  },
  {
   "cell_type": "code",
   "execution_count": null,
   "id": "a8f371e7",
   "metadata": {},
   "outputs": [],
   "source": [
    "adata.obs['nb_features']"
   ]
  },
  {
   "cell_type": "markdown",
   "id": "e50a0de4",
   "metadata": {},
   "source": [
    "### Promoter enrichment"
   ]
  },
  {
   "cell_type": "code",
   "execution_count": null,
   "id": "f8ddbd08",
   "metadata": {},
   "outputs": [],
   "source": [
    "# plot promoter enrichment\n",
    "sc.pl.violin(adata, keys = ['nb_features'], groupby = None, rotation=90)"
   ]
  },
  {
   "cell_type": "code",
   "execution_count": null,
   "id": "13425c38",
   "metadata": {},
   "outputs": [],
   "source": [
    "# filter cells based on percentage of fragments in promoters\n",
    "adata = adata[adata.obs['log_nb_features'] > 0.2]"
   ]
  },
  {
   "cell_type": "markdown",
   "id": "5f4138de",
   "metadata": {},
   "source": [
    "### Visualize feature distribution (Histogram)"
   ]
  },
  {
   "cell_type": "code",
   "execution_count": null,
   "id": "8f2b3322",
   "metadata": {},
   "outputs": [],
   "source": [
    "# show open features per cell\n",
    "min_features = 100\n",
    "\n",
    "epi.pp.coverage_cells(adata, binary=True, log=False, bins=50,\n",
    "               threshold=min_features)\n",
    "epi.pp.coverage_cells(adata, binary=True, log=10, bins=50,\n",
    "               threshold=min_features)"
   ]
  },
  {
   "cell_type": "markdown",
   "id": "c82003ef",
   "metadata": {},
   "source": [
    "### Visualize feature distribution (Violin)"
   ]
  },
  {
   "cell_type": "code",
   "execution_count": null,
   "id": "425dab0e",
   "metadata": {},
   "outputs": [],
   "source": [
    "epi.pl.violin(adata, ['nb_features'])\n",
    "epi.pl.violin(adata, ['log_nb_features'])"
   ]
  },
  {
   "cell_type": "markdown",
   "id": "9d8d1b59",
   "metadata": {},
   "source": [
    "### Filter cells"
   ]
  },
  {
   "cell_type": "code",
   "execution_count": null,
   "id": "6b2b8830",
   "metadata": {},
   "outputs": [],
   "source": [
    "# filter cells which have at least min_features and at most max_features\n",
    "epi.pp.filter_cells(adata, min_features=150)\n",
    "epi.pp.filter_cells(adata, max_features=10000)"
   ]
  },
  {
   "cell_type": "code",
   "execution_count": null,
   "id": "ddf27e12",
   "metadata": {},
   "outputs": [],
   "source": [
    "# filter features that appear in at least min_cells and at most max_cells\n",
    "epi.pp.filter_features(adata, min_cells=10)\n",
    "epi.pp.filter_features(adata, max_cells=200)"
   ]
  },
  {
   "cell_type": "markdown",
   "id": "2fcdc99f",
   "metadata": {},
   "source": [
    "### Visualize distribution of cells sharing a feature"
   ]
  },
  {
   "cell_type": "code",
   "execution_count": null,
   "id": "a78b6d6b",
   "metadata": {},
   "outputs": [],
   "source": [
    "# show numbers of cells sharing features\n",
    "min_cells = 10\n",
    "\n",
    "epi.pp.coverage_features(adata, binary=True, log=False, bins=50,\n",
    "               threshold=min_cells)\n",
    "epi.pp.coverage_features(adata, binary=True, log=10, bins=50,\n",
    "               threshold=min_cells)"
   ]
  },
  {
   "cell_type": "markdown",
   "id": "6bcae325",
   "metadata": {},
   "source": [
    "### Filter features"
   ]
  },
  {
   "cell_type": "markdown",
   "id": "9b66ef06",
   "metadata": {},
   "source": [
    "### Visualize feature distribution after filtering"
   ]
  },
  {
   "cell_type": "code",
   "execution_count": null,
   "id": "1c070c6c",
   "metadata": {},
   "outputs": [],
   "source": [
    "# visualize\n",
    "epi.pl.violin(adata, ['nb_features'])\n",
    "epi.pl.violin(adata, ['log_nb_features'])"
   ]
  },
  {
   "cell_type": "code",
   "execution_count": null,
   "id": "5a6590bf",
   "metadata": {},
   "outputs": [],
   "source": [
    "# show open features per cell\n",
    "min_features = 100\n",
    "\n",
    "epi.pp.coverage_cells(adata, binary=True, log=False, bins=50,\n",
    "               threshold=min_features)\n",
    "epi.pp.coverage_cells(adata, binary=True, log=10, bins=50,\n",
    "               threshold=min_features)\n",
    "\n",
    "# show numbers of cells sharing features\n",
    "min_cells = 10\n",
    "\n",
    "epi.pp.coverage_features(adata, binary=True, log=False, bins=50,\n",
    "               threshold=min_cells)\n",
    "epi.pp.coverage_features(adata, binary=True, log=10, bins=50,\n",
    "               threshold=min_cells)\n",
    "\n",
    "# calculate varibaility score\n",
    "epi.pp.cal_var(adata)"
   ]
  },
  {
   "cell_type": "code",
   "execution_count": null,
   "id": "1e3cb42a",
   "metadata": {},
   "outputs": [],
   "source": [
    "adata"
   ]
  },
  {
   "cell_type": "markdown",
   "id": "edb90c18",
   "metadata": {},
   "source": [
    "### Normalize remaining data"
   ]
  },
  {
   "cell_type": "code",
   "execution_count": null,
   "id": "53f260f5",
   "metadata": {},
   "outputs": [],
   "source": [
    "sc.pp.normalize_total(adata)\n",
    "adata.layers['normalised'] = adata.X.copy()\n",
    "\n",
    "# log-normalize\n",
    "epi.pp.log1p(adata)"
   ]
  },
  {
   "cell_type": "markdown",
   "id": "b7aee91f",
   "metadata": {},
   "source": [
    "## Dimension reduction and clustering"
   ]
  },
  {
   "cell_type": "markdown",
   "id": "01a6a0a1",
   "metadata": {},
   "source": [
    "### Calculate PCA and neighbors"
   ]
  },
  {
   "cell_type": "code",
   "execution_count": null,
   "id": "7a3d80b2",
   "metadata": {},
   "outputs": [],
   "source": [
    "# calculate pca\n",
    "sc.pp.pca(adata, n_comps=50, svd_solver='arpack', use_highly_variable=False)\n",
    "# calculate neighbors\n",
    "sc.pp.neighbors(adata, n_neighbors=15, n_pcs=50, method='umap', metric='euclidean')"
   ]
  },
  {
   "cell_type": "code",
   "execution_count": null,
   "id": "eb14ab21",
   "metadata": {},
   "outputs": [],
   "source": [
    "# Plot PCA variance ratio for selection of PCs\n",
    "sc.pl.pca_variance_ratio(adata, n_pcs = 30)"
   ]
  },
  {
   "cell_type": "code",
   "execution_count": null,
   "id": "76f3611c",
   "metadata": {},
   "outputs": [],
   "source": [
    "adata.obs"
   ]
  },
  {
   "cell_type": "markdown",
   "id": "f1be75f5",
   "metadata": {},
   "source": [
    "### Calculate UMAP"
   ]
  },
  {
   "cell_type": "code",
   "execution_count": null,
   "id": "f15fdc92",
   "metadata": {},
   "outputs": [],
   "source": [
    "sc.tl.umap(adata, min_dist=0.5, spread=2.5)"
   ]
  },
  {
   "cell_type": "code",
   "execution_count": null,
   "id": "6c34d326",
   "metadata": {},
   "outputs": [],
   "source": [
    "# Visualize cells in UMAP\n",
    "sc.pl.umap(adata, color = 'nb_features', legend_loc = 'right margin')"
   ]
  },
  {
   "cell_type": "markdown",
   "id": "53a3ee03",
   "metadata": {},
   "source": [
    "### Cluster with leiden algorithm and show UMAP"
   ]
  },
  {
   "cell_type": "code",
   "execution_count": null,
   "id": "792fe025",
   "metadata": {
    "scrolled": true
   },
   "outputs": [],
   "source": [
    "sc.tl.leiden(adata, resolution=2.5, use_weights=False)\n",
    "\n",
    "sc.pl.umap(adata, color=['leiden'])"
   ]
  },
  {
   "cell_type": "markdown",
   "id": "a27dc925",
   "metadata": {},
   "source": [
    "## Peaks Annotation"
   ]
  },
  {
   "cell_type": "markdown",
   "id": "1a80f791",
   "metadata": {},
   "source": [
    "### UROPA"
   ]
  },
  {
   "cell_type": "code",
   "execution_count": null,
   "id": "2161eaf7",
   "metadata": {},
   "outputs": [],
   "source": [
    "custom_config = {\"queries\": [{\"feature\": 'gene', \"distance\": [5000, 5000], \"feature_anchor\": \"start\"}],\n",
    "                 \"priority\": True, \n",
    "                 \"show_attributes\": \"all\"}"
   ]
  },
  {
   "cell_type": "code",
   "execution_count": null,
   "id": "3aec8218",
   "metadata": {},
   "outputs": [],
   "source": [
    "annotation.annotate_adata(adata, gtf=GTF_UROPA, config=custom_config, best=True, threads=3, coordinate_cols=None, temp_dir=\"\", remove_temp=True, verbose=True, inplace=True)"
   ]
  },
  {
   "cell_type": "code",
   "execution_count": null,
   "id": "fa9b6ce5",
   "metadata": {},
   "outputs": [],
   "source": [
    "adata.var"
   ]
  },
  {
   "cell_type": "markdown",
   "id": "712f73c0",
   "metadata": {},
   "source": [
    "#### filter unassigned peaks in uropa"
   ]
  },
  {
   "cell_type": "code",
   "execution_count": null,
   "id": "287deeb2",
   "metadata": {},
   "outputs": [],
   "source": [
    "assigned_peaks = adata.var[adata.var['gene_name'].notnull()]\n",
    "uropa_adata = adata[:,assigned_peaks.index]\n",
    "uropa_adata"
   ]
  },
  {
   "cell_type": "markdown",
   "id": "7c10db25",
   "metadata": {},
   "source": [
    "### Replace peaks with gene names\n",
    "Make new feature names unique and write them into raw"
   ]
  },
  {
   "cell_type": "code",
   "execution_count": null,
   "id": "51e6ef64",
   "metadata": {},
   "outputs": [],
   "source": [
    "uropa_adata.var.reset_index(inplace=True)\n",
    "uropa_adata.var.set_index('gene_id', inplace=True)"
   ]
  },
  {
   "cell_type": "code",
   "execution_count": null,
   "id": "e828dc8e",
   "metadata": {},
   "outputs": [],
   "source": [
    "uropa_adata.var.index = uropa_adata.var.index.astype('object')"
   ]
  },
  {
   "cell_type": "code",
   "execution_count": null,
   "id": "7c8d1a88",
   "metadata": {},
   "outputs": [],
   "source": [
    "uropa_adata.var_names_make_unique(join=\"_\")\n",
    "uropa_adata.raw = uropa_adata\n",
    "uropa_adata.var"
   ]
  },
  {
   "cell_type": "markdown",
   "id": "a62a5673",
   "metadata": {},
   "source": [
    "### Rank genes"
   ]
  },
  {
   "cell_type": "code",
   "execution_count": null,
   "id": "4856d6e4",
   "metadata": {},
   "outputs": [],
   "source": [
    "sc.tl.rank_genes_groups(uropa_adata, groupby='leiden', use_raw=True)\n",
    "\n",
    "sc.pl.rank_genes_groups(uropa_adata)"
   ]
  },
  {
   "cell_type": "code",
   "execution_count": null,
   "id": "70e46b73",
   "metadata": {},
   "outputs": [],
   "source": [
    "sc.pl.rank_genes_groups_matrixplot(uropa_adata, standard_scale='var', n_genes=10)"
   ]
  },
  {
   "cell_type": "code",
   "execution_count": null,
   "id": "5c1323e1",
   "metadata": {},
   "outputs": [],
   "source": [
    "uropa_adata.var.index"
   ]
  },
  {
   "cell_type": "markdown",
   "id": "5accd5f8",
   "metadata": {},
   "source": [
    "## Celltype annotation"
   ]
  },
  {
   "cell_type": "code",
   "execution_count": null,
   "id": "29ce32e4",
   "metadata": {},
   "outputs": [],
   "source": [
    "celltype_annotation.run_scsa(uropa_adata, species='human')"
   ]
  },
  {
   "cell_type": "markdown",
   "id": "7bd06678",
   "metadata": {},
   "source": [
    "### Visulaize with UMAP"
   ]
  },
  {
   "cell_type": "code",
   "execution_count": null,
   "id": "d92e9a42",
   "metadata": {},
   "outputs": [],
   "source": [
    "# Visualize cells in UMAP\n",
    "sc.pl.umap(uropa_adata, color = 'SCSA_pred_celltype', title = 'Predicted Celltypes', legend_loc = 'right margin')"
   ]
  },
  {
   "cell_type": "code",
   "execution_count": null,
   "id": "0ce7feb1",
   "metadata": {},
   "outputs": [],
   "source": [
    "uropa_adata"
   ]
  }
 ],
 "metadata": {
  "kernelspec": {
   "display_name": "sctoolbox",
   "language": "python",
   "name": "sctoolbox"
  },
  "language_info": {
   "codemirror_mode": {
    "name": "ipython",
    "version": 3
   },
   "file_extension": ".py",
   "mimetype": "text/x-python",
   "name": "python",
   "nbconvert_exporter": "python",
   "pygments_lexer": "ipython3",
   "version": "3.9.15"
  }
 },
 "nbformat": 4,
 "nbformat_minor": 5
}
